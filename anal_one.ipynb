{
 "cells": [
  {
   "cell_type": "code",
   "execution_count": 130,
   "metadata": {},
   "outputs": [],
   "source": [
    "# !pip install matplotlib \n",
    "!pip install nbformat>=4.2\n"
   ]
  },
  {
   "cell_type": "code",
   "execution_count": 62,
   "metadata": {},
   "outputs": [],
   "source": [
    "import pandas as pd\n",
    "import numpy as np\n",
    "import matplotlib.pyplot as plt\n",
    "import plotly.express as px\n",
    "import re"
   ]
  },
  {
   "cell_type": "code",
   "execution_count": 37,
   "metadata": {},
   "outputs": [],
   "source": [
    "df = pd.read_csv(r'D:\\env\\analysis\\2194917.positions.csv' , delimiter=';')   \n"
   ]
  },
  {
   "cell_type": "code",
   "execution_count": 9,
   "metadata": {},
   "outputs": [
    {
     "data": {
      "text/html": [
       "<div>\n",
       "<style scoped>\n",
       "    .dataframe tbody tr th:only-of-type {\n",
       "        vertical-align: middle;\n",
       "    }\n",
       "\n",
       "    .dataframe tbody tr th {\n",
       "        vertical-align: top;\n",
       "    }\n",
       "\n",
       "    .dataframe thead th {\n",
       "        text-align: right;\n",
       "    }\n",
       "</style>\n",
       "<table border=\"1\" class=\"dataframe\">\n",
       "  <thead>\n",
       "    <tr style=\"text-align: right;\">\n",
       "      <th></th>\n",
       "      <th>Time</th>\n",
       "      <th>Type</th>\n",
       "      <th>Volume</th>\n",
       "      <th>Symbol</th>\n",
       "      <th>Price</th>\n",
       "      <th>Volume.1</th>\n",
       "      <th>Time.1</th>\n",
       "      <th>Price.1</th>\n",
       "      <th>Commission</th>\n",
       "      <th>Swap</th>\n",
       "      <th>Profit</th>\n",
       "    </tr>\n",
       "  </thead>\n",
       "  <tbody>\n",
       "    <tr>\n",
       "      <th>0</th>\n",
       "      <td>2024.10.23 09:46:54</td>\n",
       "      <td>Sell</td>\n",
       "      <td>0.01</td>\n",
       "      <td>USDCAD</td>\n",
       "      <td>1.38234</td>\n",
       "      <td>0.01</td>\n",
       "      <td>2024.10.23 16:36:06</td>\n",
       "      <td>1.38347</td>\n",
       "      <td>NaN</td>\n",
       "      <td>NaN</td>\n",
       "      <td>-0.82</td>\n",
       "    </tr>\n",
       "    <tr>\n",
       "      <th>1</th>\n",
       "      <td>2024.10.22 17:12:01</td>\n",
       "      <td>Sell</td>\n",
       "      <td>0.01</td>\n",
       "      <td>USDCAD</td>\n",
       "      <td>1.38225</td>\n",
       "      <td>0.01</td>\n",
       "      <td>2024.10.22 17:15:02</td>\n",
       "      <td>1.38280</td>\n",
       "      <td>NaN</td>\n",
       "      <td>NaN</td>\n",
       "      <td>-0.40</td>\n",
       "    </tr>\n",
       "    <tr>\n",
       "      <th>2</th>\n",
       "      <td>2024.10.22 15:59:27</td>\n",
       "      <td>Sell</td>\n",
       "      <td>0.01</td>\n",
       "      <td>USDCAD</td>\n",
       "      <td>1.38273</td>\n",
       "      <td>0.01</td>\n",
       "      <td>2024.10.22 17:02:29</td>\n",
       "      <td>1.38260</td>\n",
       "      <td>NaN</td>\n",
       "      <td>NaN</td>\n",
       "      <td>0.09</td>\n",
       "    </tr>\n",
       "    <tr>\n",
       "      <th>3</th>\n",
       "      <td>2024.10.21 08:18:32</td>\n",
       "      <td>Sell</td>\n",
       "      <td>0.01</td>\n",
       "      <td>ETHUSD</td>\n",
       "      <td>2733.68000</td>\n",
       "      <td>0.01</td>\n",
       "      <td>2024.10.21 19:05:33</td>\n",
       "      <td>2677.50000</td>\n",
       "      <td>NaN</td>\n",
       "      <td>NaN</td>\n",
       "      <td>5.62</td>\n",
       "    </tr>\n",
       "    <tr>\n",
       "      <th>4</th>\n",
       "      <td>2024.10.18 21:00:31</td>\n",
       "      <td>Sell</td>\n",
       "      <td>0.01</td>\n",
       "      <td>USDCAD</td>\n",
       "      <td>1.38031</td>\n",
       "      <td>0.01</td>\n",
       "      <td>2024.10.21 01:11:18</td>\n",
       "      <td>1.38035</td>\n",
       "      <td>NaN</td>\n",
       "      <td>NaN</td>\n",
       "      <td>-0.03</td>\n",
       "    </tr>\n",
       "    <tr>\n",
       "      <th>...</th>\n",
       "      <td>...</td>\n",
       "      <td>...</td>\n",
       "      <td>...</td>\n",
       "      <td>...</td>\n",
       "      <td>...</td>\n",
       "      <td>...</td>\n",
       "      <td>...</td>\n",
       "      <td>...</td>\n",
       "      <td>...</td>\n",
       "      <td>...</td>\n",
       "      <td>...</td>\n",
       "    </tr>\n",
       "    <tr>\n",
       "      <th>1015</th>\n",
       "      <td>2023.07.10 10:16:49</td>\n",
       "      <td>Buy</td>\n",
       "      <td>0.02</td>\n",
       "      <td>NZDUSD</td>\n",
       "      <td>0.61852</td>\n",
       "      <td>0.02</td>\n",
       "      <td>2023.07.10 16:55:21</td>\n",
       "      <td>0.61915</td>\n",
       "      <td>NaN</td>\n",
       "      <td>NaN</td>\n",
       "      <td>1.26</td>\n",
       "    </tr>\n",
       "    <tr>\n",
       "      <th>1016</th>\n",
       "      <td>2023.07.10 10:15:44</td>\n",
       "      <td>Buy</td>\n",
       "      <td>0.02</td>\n",
       "      <td>AUDUSD</td>\n",
       "      <td>0.66509</td>\n",
       "      <td>0.02</td>\n",
       "      <td>2023.07.10 16:55:18</td>\n",
       "      <td>0.66545</td>\n",
       "      <td>NaN</td>\n",
       "      <td>NaN</td>\n",
       "      <td>0.72</td>\n",
       "    </tr>\n",
       "    <tr>\n",
       "      <th>1017</th>\n",
       "      <td>2023.07.10 09:20:55</td>\n",
       "      <td>Buy</td>\n",
       "      <td>0.02</td>\n",
       "      <td>GBPUSD</td>\n",
       "      <td>1.28063</td>\n",
       "      <td>0.02</td>\n",
       "      <td>2023.07.10 09:55:01</td>\n",
       "      <td>1.28099</td>\n",
       "      <td>NaN</td>\n",
       "      <td>NaN</td>\n",
       "      <td>0.72</td>\n",
       "    </tr>\n",
       "    <tr>\n",
       "      <th>1018</th>\n",
       "      <td>2023.07.10 09:33:23</td>\n",
       "      <td>Balance</td>\n",
       "      <td>NaN</td>\n",
       "      <td>NaN</td>\n",
       "      <td>NaN</td>\n",
       "      <td>NaN</td>\n",
       "      <td>NaN</td>\n",
       "      <td>NaN</td>\n",
       "      <td>NaN</td>\n",
       "      <td>NaN</td>\n",
       "      <td>5.00</td>\n",
       "    </tr>\n",
       "    <tr>\n",
       "      <th>1019</th>\n",
       "      <td>2023.07.09 19:35:59</td>\n",
       "      <td>Balance</td>\n",
       "      <td>NaN</td>\n",
       "      <td>NaN</td>\n",
       "      <td>NaN</td>\n",
       "      <td>NaN</td>\n",
       "      <td>NaN</td>\n",
       "      <td>NaN</td>\n",
       "      <td>NaN</td>\n",
       "      <td>NaN</td>\n",
       "      <td>111.17</td>\n",
       "    </tr>\n",
       "  </tbody>\n",
       "</table>\n",
       "<p>1020 rows × 11 columns</p>\n",
       "</div>"
      ],
      "text/plain": [
       "                     Time     Type  Volume  Symbol       Price  Volume.1  \\\n",
       "0     2024.10.23 09:46:54     Sell    0.01  USDCAD     1.38234      0.01   \n",
       "1     2024.10.22 17:12:01     Sell    0.01  USDCAD     1.38225      0.01   \n",
       "2     2024.10.22 15:59:27     Sell    0.01  USDCAD     1.38273      0.01   \n",
       "3     2024.10.21 08:18:32     Sell    0.01  ETHUSD  2733.68000      0.01   \n",
       "4     2024.10.18 21:00:31     Sell    0.01  USDCAD     1.38031      0.01   \n",
       "...                   ...      ...     ...     ...         ...       ...   \n",
       "1015  2023.07.10 10:16:49      Buy    0.02  NZDUSD     0.61852      0.02   \n",
       "1016  2023.07.10 10:15:44      Buy    0.02  AUDUSD     0.66509      0.02   \n",
       "1017  2023.07.10 09:20:55      Buy    0.02  GBPUSD     1.28063      0.02   \n",
       "1018  2023.07.10 09:33:23  Balance     NaN     NaN         NaN       NaN   \n",
       "1019  2023.07.09 19:35:59  Balance     NaN     NaN         NaN       NaN   \n",
       "\n",
       "                   Time.1     Price.1  Commission  Swap  Profit  \n",
       "0     2024.10.23 16:36:06     1.38347         NaN   NaN   -0.82  \n",
       "1     2024.10.22 17:15:02     1.38280         NaN   NaN   -0.40  \n",
       "2     2024.10.22 17:02:29     1.38260         NaN   NaN    0.09  \n",
       "3     2024.10.21 19:05:33  2677.50000         NaN   NaN    5.62  \n",
       "4     2024.10.21 01:11:18     1.38035         NaN   NaN   -0.03  \n",
       "...                   ...         ...         ...   ...     ...  \n",
       "1015  2023.07.10 16:55:21     0.61915         NaN   NaN    1.26  \n",
       "1016  2023.07.10 16:55:18     0.66545         NaN   NaN    0.72  \n",
       "1017  2023.07.10 09:55:01     1.28099         NaN   NaN    0.72  \n",
       "1018                  NaN         NaN         NaN   NaN    5.00  \n",
       "1019                  NaN         NaN         NaN   NaN  111.17  \n",
       "\n",
       "[1020 rows x 11 columns]"
      ]
     },
     "execution_count": 9,
     "metadata": {},
     "output_type": "execute_result"
    }
   ],
   "source": [
    "df"
   ]
  },
  {
   "cell_type": "code",
   "execution_count": 38,
   "metadata": {},
   "outputs": [],
   "source": [
    "df = df[::-1].reset_index(drop=True)\n",
    "df = df[(df['Type'] == 'Buy') | (df['Type'] == 'Sell') | (df['Type'] == 'Balance')].reset_index(drop=True)\n",
    "if df['Profit'].dtypes != 'float64':\n",
    "  df['Profit'] = df['Profit'].str.replace(' ' , '').astype(float)\n",
    "if df['Commission'].dtypes != 'float64':\n",
    "  df['Commission'] = df['Commission'].str.replace(' ' , '').astype(float)\n",
    "if df['Price'].dtypes != 'float64':\n",
    "  df['Price'] = df['Price'].str.replace(' ' , '').astype(float)\n",
    "if df['Price.1'].dtypes != 'float64':\n",
    "  df['Price.1'] = df['Price.1'].str.replace(' ' , '').astype(float)\n",
    "df['Time'] = pd.to_datetime(df['Time'])\n",
    "df['Time.1'] = pd.to_datetime(df['Time.1'])\n",
    "if 'S/L' in df.columns:\n",
    "  df.drop('S/L' , axis=1 , inplace=True)\n",
    "if 'T/P' in df.columns:\n",
    "  df.drop('T/P' , axis=1 , inplace=True)\n",
    "if 'Swap' in df.columns:\n",
    "  df.drop('Swap' , axis=1 , inplace=True)\n",
    "if 'Comment' in df.columns:\n",
    "  df.drop('Comment' , axis=1 , inplace=True)\n",
    "\n",
    "if 'Volume.1' in df.columns:\n",
    "  df.drop('Volume.1' , axis=1 , inplace=True)\n",
    "\n",
    "df['Commission'].fillna(0 , inplace=True)\n",
    "df['balance'] = (df['Profit'] + df['Commission']).cumsum()\n",
    "df = df[df['Type'] != 'Balance'].reset_index(drop=True)\n",
    "\n",
    "\n",
    "df['net_profit'] = df['Profit'] + df['Commission']\n",
    "\n",
    "df['time_diff_minute'] = (df['Time.1'] - df['Time']).dt.total_seconds() / 60\n",
    "\n",
    "df['Symbol'] = df['Symbol'].apply(lambda x : re.sub(r'[^A-Z0-9]', '', x))\n",
    "df['Symbol_percent_trader'] = df.groupby('Symbol')['Symbol'].transform('count') / len(df) * 100"
   ]
  },
  {
   "cell_type": "code",
   "execution_count": 31,
   "metadata": {},
   "outputs": [
    {
     "data": {
      "text/plain": [
       "Time                     datetime64[ns]\n",
       "Type                             object\n",
       "Volume                          float64\n",
       "Symbol                           object\n",
       "Price                           float64\n",
       "Volume.1                        float64\n",
       "Time.1                   datetime64[ns]\n",
       "Price.1                         float64\n",
       "Commission                      float64\n",
       "Profit                          float64\n",
       "balance                         float64\n",
       "net_profit                      float64\n",
       "time_diff_minute                float64\n",
       "Symbol_percent_trader           float64\n",
       "dtype: object"
      ]
     },
     "execution_count": 31,
     "metadata": {},
     "output_type": "execute_result"
    }
   ],
   "source": [
    "df.dtypes"
   ]
  },
  {
   "cell_type": "code",
   "execution_count": 39,
   "metadata": {},
   "outputs": [
    {
     "data": {
      "text/html": [
       "<div>\n",
       "<style scoped>\n",
       "    .dataframe tbody tr th:only-of-type {\n",
       "        vertical-align: middle;\n",
       "    }\n",
       "\n",
       "    .dataframe tbody tr th {\n",
       "        vertical-align: top;\n",
       "    }\n",
       "\n",
       "    .dataframe thead th {\n",
       "        text-align: right;\n",
       "    }\n",
       "</style>\n",
       "<table border=\"1\" class=\"dataframe\">\n",
       "  <thead>\n",
       "    <tr style=\"text-align: right;\">\n",
       "      <th></th>\n",
       "      <th>Time</th>\n",
       "      <th>Type</th>\n",
       "      <th>Volume</th>\n",
       "      <th>Symbol</th>\n",
       "      <th>Price</th>\n",
       "      <th>Time.1</th>\n",
       "      <th>Price.1</th>\n",
       "      <th>Commission</th>\n",
       "      <th>Profit</th>\n",
       "      <th>balance</th>\n",
       "      <th>net_profit</th>\n",
       "      <th>time_diff_minute</th>\n",
       "      <th>Symbol_percent_trader</th>\n",
       "    </tr>\n",
       "  </thead>\n",
       "  <tbody>\n",
       "    <tr>\n",
       "      <th>0</th>\n",
       "      <td>2023-07-10 09:20:55</td>\n",
       "      <td>Buy</td>\n",
       "      <td>0.02</td>\n",
       "      <td>GBPUSD</td>\n",
       "      <td>1.28063</td>\n",
       "      <td>2023-07-10 09:55:01</td>\n",
       "      <td>1.28099</td>\n",
       "      <td>0.0</td>\n",
       "      <td>0.72</td>\n",
       "      <td>116.89</td>\n",
       "      <td>0.72</td>\n",
       "      <td>34.100000</td>\n",
       "      <td>7.370518</td>\n",
       "    </tr>\n",
       "    <tr>\n",
       "      <th>1</th>\n",
       "      <td>2023-07-10 10:15:44</td>\n",
       "      <td>Buy</td>\n",
       "      <td>0.02</td>\n",
       "      <td>AUDUSD</td>\n",
       "      <td>0.66509</td>\n",
       "      <td>2023-07-10 16:55:18</td>\n",
       "      <td>0.66545</td>\n",
       "      <td>0.0</td>\n",
       "      <td>0.72</td>\n",
       "      <td>117.61</td>\n",
       "      <td>0.72</td>\n",
       "      <td>399.566667</td>\n",
       "      <td>8.466135</td>\n",
       "    </tr>\n",
       "    <tr>\n",
       "      <th>2</th>\n",
       "      <td>2023-07-10 10:16:49</td>\n",
       "      <td>Buy</td>\n",
       "      <td>0.02</td>\n",
       "      <td>NZDUSD</td>\n",
       "      <td>0.61852</td>\n",
       "      <td>2023-07-10 16:55:21</td>\n",
       "      <td>0.61915</td>\n",
       "      <td>0.0</td>\n",
       "      <td>1.26</td>\n",
       "      <td>118.87</td>\n",
       "      <td>1.26</td>\n",
       "      <td>398.533333</td>\n",
       "      <td>11.354582</td>\n",
       "    </tr>\n",
       "    <tr>\n",
       "      <th>3</th>\n",
       "      <td>2023-07-10 12:53:57</td>\n",
       "      <td>Buy</td>\n",
       "      <td>0.01</td>\n",
       "      <td>AUDUSD</td>\n",
       "      <td>0.66362</td>\n",
       "      <td>2023-07-10 16:56:29</td>\n",
       "      <td>0.66569</td>\n",
       "      <td>0.0</td>\n",
       "      <td>2.07</td>\n",
       "      <td>120.94</td>\n",
       "      <td>2.07</td>\n",
       "      <td>242.533333</td>\n",
       "      <td>8.466135</td>\n",
       "    </tr>\n",
       "    <tr>\n",
       "      <th>4</th>\n",
       "      <td>2023-07-10 19:31:17</td>\n",
       "      <td>Sell</td>\n",
       "      <td>0.01</td>\n",
       "      <td>AUDCAD</td>\n",
       "      <td>0.88590</td>\n",
       "      <td>2023-07-10 19:37:36</td>\n",
       "      <td>0.88618</td>\n",
       "      <td>0.0</td>\n",
       "      <td>0.00</td>\n",
       "      <td>120.94</td>\n",
       "      <td>0.00</td>\n",
       "      <td>6.316667</td>\n",
       "      <td>0.199203</td>\n",
       "    </tr>\n",
       "    <tr>\n",
       "      <th>5</th>\n",
       "      <td>2023-07-10 19:35:30</td>\n",
       "      <td>Buy</td>\n",
       "      <td>0.01</td>\n",
       "      <td>AUDCAD</td>\n",
       "      <td>0.88618</td>\n",
       "      <td>2023-07-10 19:37:36</td>\n",
       "      <td>0.88590</td>\n",
       "      <td>0.0</td>\n",
       "      <td>-0.21</td>\n",
       "      <td>120.73</td>\n",
       "      <td>-0.21</td>\n",
       "      <td>2.100000</td>\n",
       "      <td>0.199203</td>\n",
       "    </tr>\n",
       "    <tr>\n",
       "      <th>6</th>\n",
       "      <td>2023-07-11 14:21:49</td>\n",
       "      <td>Buy</td>\n",
       "      <td>0.01</td>\n",
       "      <td>NZDUSD</td>\n",
       "      <td>0.61863</td>\n",
       "      <td>2023-07-11 14:48:19</td>\n",
       "      <td>0.61762</td>\n",
       "      <td>0.0</td>\n",
       "      <td>-1.01</td>\n",
       "      <td>119.72</td>\n",
       "      <td>-1.01</td>\n",
       "      <td>26.500000</td>\n",
       "      <td>11.354582</td>\n",
       "    </tr>\n",
       "    <tr>\n",
       "      <th>7</th>\n",
       "      <td>2023-07-11 12:10:57</td>\n",
       "      <td>Buy</td>\n",
       "      <td>0.01</td>\n",
       "      <td>NZDUSD</td>\n",
       "      <td>0.61868</td>\n",
       "      <td>2023-07-11 14:48:22</td>\n",
       "      <td>0.61764</td>\n",
       "      <td>0.0</td>\n",
       "      <td>-1.04</td>\n",
       "      <td>118.68</td>\n",
       "      <td>-1.04</td>\n",
       "      <td>157.416667</td>\n",
       "      <td>11.354582</td>\n",
       "    </tr>\n",
       "    <tr>\n",
       "      <th>8</th>\n",
       "      <td>2023-07-11 12:03:51</td>\n",
       "      <td>Buy</td>\n",
       "      <td>0.01</td>\n",
       "      <td>NZDUSD</td>\n",
       "      <td>0.61873</td>\n",
       "      <td>2023-07-11 14:48:25</td>\n",
       "      <td>0.61764</td>\n",
       "      <td>0.0</td>\n",
       "      <td>-1.09</td>\n",
       "      <td>117.59</td>\n",
       "      <td>-1.09</td>\n",
       "      <td>164.566667</td>\n",
       "      <td>11.354582</td>\n",
       "    </tr>\n",
       "    <tr>\n",
       "      <th>9</th>\n",
       "      <td>2023-07-11 14:01:35</td>\n",
       "      <td>Sell</td>\n",
       "      <td>0.01</td>\n",
       "      <td>GBPUSD</td>\n",
       "      <td>1.29149</td>\n",
       "      <td>2023-07-11 18:20:05</td>\n",
       "      <td>1.28967</td>\n",
       "      <td>0.0</td>\n",
       "      <td>1.82</td>\n",
       "      <td>119.41</td>\n",
       "      <td>1.82</td>\n",
       "      <td>258.500000</td>\n",
       "      <td>7.370518</td>\n",
       "    </tr>\n",
       "  </tbody>\n",
       "</table>\n",
       "</div>"
      ],
      "text/plain": [
       "                 Time  Type  Volume  Symbol    Price              Time.1  \\\n",
       "0 2023-07-10 09:20:55   Buy    0.02  GBPUSD  1.28063 2023-07-10 09:55:01   \n",
       "1 2023-07-10 10:15:44   Buy    0.02  AUDUSD  0.66509 2023-07-10 16:55:18   \n",
       "2 2023-07-10 10:16:49   Buy    0.02  NZDUSD  0.61852 2023-07-10 16:55:21   \n",
       "3 2023-07-10 12:53:57   Buy    0.01  AUDUSD  0.66362 2023-07-10 16:56:29   \n",
       "4 2023-07-10 19:31:17  Sell    0.01  AUDCAD  0.88590 2023-07-10 19:37:36   \n",
       "5 2023-07-10 19:35:30   Buy    0.01  AUDCAD  0.88618 2023-07-10 19:37:36   \n",
       "6 2023-07-11 14:21:49   Buy    0.01  NZDUSD  0.61863 2023-07-11 14:48:19   \n",
       "7 2023-07-11 12:10:57   Buy    0.01  NZDUSD  0.61868 2023-07-11 14:48:22   \n",
       "8 2023-07-11 12:03:51   Buy    0.01  NZDUSD  0.61873 2023-07-11 14:48:25   \n",
       "9 2023-07-11 14:01:35  Sell    0.01  GBPUSD  1.29149 2023-07-11 18:20:05   \n",
       "\n",
       "   Price.1  Commission  Profit  balance  net_profit  time_diff_minute  \\\n",
       "0  1.28099         0.0    0.72   116.89        0.72         34.100000   \n",
       "1  0.66545         0.0    0.72   117.61        0.72        399.566667   \n",
       "2  0.61915         0.0    1.26   118.87        1.26        398.533333   \n",
       "3  0.66569         0.0    2.07   120.94        2.07        242.533333   \n",
       "4  0.88618         0.0    0.00   120.94        0.00          6.316667   \n",
       "5  0.88590         0.0   -0.21   120.73       -0.21          2.100000   \n",
       "6  0.61762         0.0   -1.01   119.72       -1.01         26.500000   \n",
       "7  0.61764         0.0   -1.04   118.68       -1.04        157.416667   \n",
       "8  0.61764         0.0   -1.09   117.59       -1.09        164.566667   \n",
       "9  1.28967         0.0    1.82   119.41        1.82        258.500000   \n",
       "\n",
       "   Symbol_percent_trader  \n",
       "0               7.370518  \n",
       "1               8.466135  \n",
       "2              11.354582  \n",
       "3               8.466135  \n",
       "4               0.199203  \n",
       "5               0.199203  \n",
       "6              11.354582  \n",
       "7              11.354582  \n",
       "8              11.354582  \n",
       "9               7.370518  "
      ]
     },
     "execution_count": 39,
     "metadata": {},
     "output_type": "execute_result"
    }
   ],
   "source": [
    "df.head(10)"
   ]
  },
  {
   "cell_type": "code",
   "execution_count": 50,
   "metadata": {},
   "outputs": [],
   "source": [
    "dff = df.copy()"
   ]
  },
  {
   "cell_type": "code",
   "execution_count": 106,
   "metadata": {},
   "outputs": [],
   "source": [
    "def calculate_pip_diff(row):\n",
    "    symbol = row['Symbol']\n",
    "    price_diff = abs(row['Price.1'] - row['Price'])\n",
    "    \n",
    "    # تعیین مقیاس پیپ بر اساس نماد\n",
    "\n",
    "    if symbol == 'XAUUSD':  # طلا\n",
    "        pip_scale = 10\n",
    "    elif symbol in ['BTCUSD' , 'ETHUSD' , 'XTIUSD' , 'USDMXN']:  # بیت‌کوین\n",
    "        pip_scale = 1  # بسته به نیاز می‌تواند تغییر کند\n",
    "    elif symbol in ['WTI', 'Brent']:  # نفت خام\n",
    "        pip_scale = 100  # چون نفت خام معمولاً دو رقم اعشار دارد\n",
    "    elif symbol in ['S&P 500', 'DJIA', 'NASDAQ' , 'USDJPY']:  # شاخص‌های سهام\n",
    "        pip_scale = 1  # شاخص‌ها معمولاً به صورت عدد صحیح نمایش داده می‌شوند\n",
    "    else:\n",
    "        pip_scale = 10000  # مقیاس پیش‌فرض برای نمادهای دیگر\n",
    "    \n",
    "    return price_diff * pip_scale\n",
    "\n"
   ]
  },
  {
   "cell_type": "code",
   "execution_count": 107,
   "metadata": {},
   "outputs": [],
   "source": [
    "dff['pip_diff'] = dff.apply(calculate_pip_diff, axis=1)\n",
    "dff['v/b'] =dff['Volume'] * 100_000 / dff['balance'] \n",
    "dff['percent_profit'] = dff['net_profit'] / dff['balance'] * 100"
   ]
  },
  {
   "cell_type": "code",
   "execution_count": 113,
   "metadata": {},
   "outputs": [],
   "source": [
    "dff = dff[(dff['Symbol'] != 'BTCUSD') | (dff['Symbol'] != 'USDMXN')].reset_index(drop=True)"
   ]
  },
  {
   "cell_type": "code",
   "execution_count": 115,
   "metadata": {},
   "outputs": [
    {
     "data": {
      "text/html": [
       "<div>\n",
       "<style scoped>\n",
       "    .dataframe tbody tr th:only-of-type {\n",
       "        vertical-align: middle;\n",
       "    }\n",
       "\n",
       "    .dataframe tbody tr th {\n",
       "        vertical-align: top;\n",
       "    }\n",
       "\n",
       "    .dataframe thead th {\n",
       "        text-align: right;\n",
       "    }\n",
       "</style>\n",
       "<table border=\"1\" class=\"dataframe\">\n",
       "  <thead>\n",
       "    <tr style=\"text-align: right;\">\n",
       "      <th></th>\n",
       "      <th>Time</th>\n",
       "      <th>Type</th>\n",
       "      <th>Volume</th>\n",
       "      <th>Symbol</th>\n",
       "      <th>Price</th>\n",
       "      <th>Time.1</th>\n",
       "      <th>Price.1</th>\n",
       "      <th>Commission</th>\n",
       "      <th>Profit</th>\n",
       "      <th>balance</th>\n",
       "      <th>net_profit</th>\n",
       "      <th>time_diff_minute</th>\n",
       "      <th>Symbol_percent_trader</th>\n",
       "      <th>pip_diff</th>\n",
       "      <th>v/b</th>\n",
       "      <th>percent_profit</th>\n",
       "    </tr>\n",
       "  </thead>\n",
       "  <tbody>\n",
       "    <tr>\n",
       "      <th>0</th>\n",
       "      <td>2023-07-10 09:20:55</td>\n",
       "      <td>Buy</td>\n",
       "      <td>0.02</td>\n",
       "      <td>GBPUSD</td>\n",
       "      <td>1.28063</td>\n",
       "      <td>2023-07-10 09:55:01</td>\n",
       "      <td>1.28099</td>\n",
       "      <td>0.0</td>\n",
       "      <td>0.72</td>\n",
       "      <td>116.89</td>\n",
       "      <td>0.72</td>\n",
       "      <td>34.100000</td>\n",
       "      <td>7.370518</td>\n",
       "      <td>3.600</td>\n",
       "      <td>17.110104</td>\n",
       "      <td>0.615964</td>\n",
       "    </tr>\n",
       "    <tr>\n",
       "      <th>1</th>\n",
       "      <td>2023-07-10 10:15:44</td>\n",
       "      <td>Buy</td>\n",
       "      <td>0.02</td>\n",
       "      <td>AUDUSD</td>\n",
       "      <td>0.66509</td>\n",
       "      <td>2023-07-10 16:55:18</td>\n",
       "      <td>0.66545</td>\n",
       "      <td>0.0</td>\n",
       "      <td>0.72</td>\n",
       "      <td>117.61</td>\n",
       "      <td>0.72</td>\n",
       "      <td>399.566667</td>\n",
       "      <td>8.466135</td>\n",
       "      <td>3.600</td>\n",
       "      <td>17.005357</td>\n",
       "      <td>0.612193</td>\n",
       "    </tr>\n",
       "    <tr>\n",
       "      <th>2</th>\n",
       "      <td>2023-07-10 10:16:49</td>\n",
       "      <td>Buy</td>\n",
       "      <td>0.02</td>\n",
       "      <td>NZDUSD</td>\n",
       "      <td>0.61852</td>\n",
       "      <td>2023-07-10 16:55:21</td>\n",
       "      <td>0.61915</td>\n",
       "      <td>0.0</td>\n",
       "      <td>1.26</td>\n",
       "      <td>118.87</td>\n",
       "      <td>1.26</td>\n",
       "      <td>398.533333</td>\n",
       "      <td>11.354582</td>\n",
       "      <td>6.300</td>\n",
       "      <td>16.825103</td>\n",
       "      <td>1.059981</td>\n",
       "    </tr>\n",
       "    <tr>\n",
       "      <th>3</th>\n",
       "      <td>2023-07-10 12:53:57</td>\n",
       "      <td>Buy</td>\n",
       "      <td>0.01</td>\n",
       "      <td>AUDUSD</td>\n",
       "      <td>0.66362</td>\n",
       "      <td>2023-07-10 16:56:29</td>\n",
       "      <td>0.66569</td>\n",
       "      <td>0.0</td>\n",
       "      <td>2.07</td>\n",
       "      <td>120.94</td>\n",
       "      <td>2.07</td>\n",
       "      <td>242.533333</td>\n",
       "      <td>8.466135</td>\n",
       "      <td>20.700</td>\n",
       "      <td>8.268563</td>\n",
       "      <td>1.711593</td>\n",
       "    </tr>\n",
       "    <tr>\n",
       "      <th>4</th>\n",
       "      <td>2023-07-10 19:31:17</td>\n",
       "      <td>Sell</td>\n",
       "      <td>0.01</td>\n",
       "      <td>AUDCAD</td>\n",
       "      <td>0.88590</td>\n",
       "      <td>2023-07-10 19:37:36</td>\n",
       "      <td>0.88618</td>\n",
       "      <td>0.0</td>\n",
       "      <td>0.00</td>\n",
       "      <td>120.94</td>\n",
       "      <td>0.00</td>\n",
       "      <td>6.316667</td>\n",
       "      <td>0.199203</td>\n",
       "      <td>2.800</td>\n",
       "      <td>8.268563</td>\n",
       "      <td>0.000000</td>\n",
       "    </tr>\n",
       "    <tr>\n",
       "      <th>5</th>\n",
       "      <td>2023-07-10 19:35:30</td>\n",
       "      <td>Buy</td>\n",
       "      <td>0.01</td>\n",
       "      <td>AUDCAD</td>\n",
       "      <td>0.88618</td>\n",
       "      <td>2023-07-10 19:37:36</td>\n",
       "      <td>0.88590</td>\n",
       "      <td>0.0</td>\n",
       "      <td>-0.21</td>\n",
       "      <td>120.73</td>\n",
       "      <td>-0.21</td>\n",
       "      <td>2.100000</td>\n",
       "      <td>0.199203</td>\n",
       "      <td>2.800</td>\n",
       "      <td>8.282945</td>\n",
       "      <td>-0.173942</td>\n",
       "    </tr>\n",
       "    <tr>\n",
       "      <th>6</th>\n",
       "      <td>2023-07-11 14:21:49</td>\n",
       "      <td>Buy</td>\n",
       "      <td>0.01</td>\n",
       "      <td>NZDUSD</td>\n",
       "      <td>0.61863</td>\n",
       "      <td>2023-07-11 14:48:19</td>\n",
       "      <td>0.61762</td>\n",
       "      <td>0.0</td>\n",
       "      <td>-1.01</td>\n",
       "      <td>119.72</td>\n",
       "      <td>-1.01</td>\n",
       "      <td>26.500000</td>\n",
       "      <td>11.354582</td>\n",
       "      <td>10.100</td>\n",
       "      <td>8.352823</td>\n",
       "      <td>-0.843635</td>\n",
       "    </tr>\n",
       "    <tr>\n",
       "      <th>7</th>\n",
       "      <td>2023-07-11 12:10:57</td>\n",
       "      <td>Buy</td>\n",
       "      <td>0.01</td>\n",
       "      <td>NZDUSD</td>\n",
       "      <td>0.61868</td>\n",
       "      <td>2023-07-11 14:48:22</td>\n",
       "      <td>0.61764</td>\n",
       "      <td>0.0</td>\n",
       "      <td>-1.04</td>\n",
       "      <td>118.68</td>\n",
       "      <td>-1.04</td>\n",
       "      <td>157.416667</td>\n",
       "      <td>11.354582</td>\n",
       "      <td>10.400</td>\n",
       "      <td>8.426020</td>\n",
       "      <td>-0.876306</td>\n",
       "    </tr>\n",
       "    <tr>\n",
       "      <th>8</th>\n",
       "      <td>2023-07-11 12:03:51</td>\n",
       "      <td>Buy</td>\n",
       "      <td>0.01</td>\n",
       "      <td>NZDUSD</td>\n",
       "      <td>0.61873</td>\n",
       "      <td>2023-07-11 14:48:25</td>\n",
       "      <td>0.61764</td>\n",
       "      <td>0.0</td>\n",
       "      <td>-1.09</td>\n",
       "      <td>117.59</td>\n",
       "      <td>-1.09</td>\n",
       "      <td>164.566667</td>\n",
       "      <td>11.354582</td>\n",
       "      <td>10.900</td>\n",
       "      <td>8.504125</td>\n",
       "      <td>-0.926950</td>\n",
       "    </tr>\n",
       "    <tr>\n",
       "      <th>9</th>\n",
       "      <td>2023-07-11 14:01:35</td>\n",
       "      <td>Sell</td>\n",
       "      <td>0.01</td>\n",
       "      <td>GBPUSD</td>\n",
       "      <td>1.29149</td>\n",
       "      <td>2023-07-11 18:20:05</td>\n",
       "      <td>1.28967</td>\n",
       "      <td>0.0</td>\n",
       "      <td>1.82</td>\n",
       "      <td>119.41</td>\n",
       "      <td>1.82</td>\n",
       "      <td>258.500000</td>\n",
       "      <td>7.370518</td>\n",
       "      <td>18.200</td>\n",
       "      <td>8.374508</td>\n",
       "      <td>1.524160</td>\n",
       "    </tr>\n",
       "    <tr>\n",
       "      <th>10</th>\n",
       "      <td>2023-07-11 14:54:37</td>\n",
       "      <td>Sell</td>\n",
       "      <td>0.01</td>\n",
       "      <td>GBPUSD</td>\n",
       "      <td>1.29068</td>\n",
       "      <td>2023-07-11 18:20:08</td>\n",
       "      <td>1.28967</td>\n",
       "      <td>0.0</td>\n",
       "      <td>1.01</td>\n",
       "      <td>120.42</td>\n",
       "      <td>1.01</td>\n",
       "      <td>205.516667</td>\n",
       "      <td>7.370518</td>\n",
       "      <td>10.100</td>\n",
       "      <td>8.304268</td>\n",
       "      <td>0.838731</td>\n",
       "    </tr>\n",
       "    <tr>\n",
       "      <th>11</th>\n",
       "      <td>2023-07-12 08:38:18</td>\n",
       "      <td>Sell</td>\n",
       "      <td>0.01</td>\n",
       "      <td>EURUSD</td>\n",
       "      <td>1.10287</td>\n",
       "      <td>2023-07-12 09:00:37</td>\n",
       "      <td>1.10283</td>\n",
       "      <td>0.0</td>\n",
       "      <td>0.04</td>\n",
       "      <td>120.46</td>\n",
       "      <td>0.04</td>\n",
       "      <td>22.316667</td>\n",
       "      <td>8.665339</td>\n",
       "      <td>0.400</td>\n",
       "      <td>8.301511</td>\n",
       "      <td>0.033206</td>\n",
       "    </tr>\n",
       "    <tr>\n",
       "      <th>12</th>\n",
       "      <td>2023-07-12 11:26:53</td>\n",
       "      <td>Sell</td>\n",
       "      <td>0.01</td>\n",
       "      <td>EURUSD</td>\n",
       "      <td>1.10260</td>\n",
       "      <td>2023-07-12 12:35:16</td>\n",
       "      <td>1.10247</td>\n",
       "      <td>0.0</td>\n",
       "      <td>0.13</td>\n",
       "      <td>120.59</td>\n",
       "      <td>0.13</td>\n",
       "      <td>68.383333</td>\n",
       "      <td>8.665339</td>\n",
       "      <td>1.300</td>\n",
       "      <td>8.292562</td>\n",
       "      <td>0.107803</td>\n",
       "    </tr>\n",
       "    <tr>\n",
       "      <th>13</th>\n",
       "      <td>2023-07-12 13:42:21</td>\n",
       "      <td>Buy</td>\n",
       "      <td>0.01</td>\n",
       "      <td>EURCHF</td>\n",
       "      <td>0.96834</td>\n",
       "      <td>2023-07-12 15:29:22</td>\n",
       "      <td>0.96693</td>\n",
       "      <td>0.0</td>\n",
       "      <td>-1.61</td>\n",
       "      <td>118.98</td>\n",
       "      <td>-1.61</td>\n",
       "      <td>107.016667</td>\n",
       "      <td>0.199203</td>\n",
       "      <td>14.100</td>\n",
       "      <td>8.404774</td>\n",
       "      <td>-1.353169</td>\n",
       "    </tr>\n",
       "    <tr>\n",
       "      <th>14</th>\n",
       "      <td>2023-07-12 13:00:47</td>\n",
       "      <td>Buy</td>\n",
       "      <td>0.01</td>\n",
       "      <td>USDJPY</td>\n",
       "      <td>139.66200</td>\n",
       "      <td>2023-07-12 15:30:02</td>\n",
       "      <td>139.09800</td>\n",
       "      <td>0.0</td>\n",
       "      <td>-4.05</td>\n",
       "      <td>114.93</td>\n",
       "      <td>-4.05</td>\n",
       "      <td>149.250000</td>\n",
       "      <td>9.063745</td>\n",
       "      <td>0.564</td>\n",
       "      <td>8.700948</td>\n",
       "      <td>-3.523884</td>\n",
       "    </tr>\n",
       "    <tr>\n",
       "      <th>15</th>\n",
       "      <td>2023-07-12 13:08:43</td>\n",
       "      <td>Buy</td>\n",
       "      <td>0.01</td>\n",
       "      <td>USDCAD</td>\n",
       "      <td>1.32150</td>\n",
       "      <td>2023-07-12 15:31:10</td>\n",
       "      <td>1.32108</td>\n",
       "      <td>0.0</td>\n",
       "      <td>-0.32</td>\n",
       "      <td>114.61</td>\n",
       "      <td>-0.32</td>\n",
       "      <td>142.450000</td>\n",
       "      <td>17.928287</td>\n",
       "      <td>4.200</td>\n",
       "      <td>8.725242</td>\n",
       "      <td>-0.279208</td>\n",
       "    </tr>\n",
       "    <tr>\n",
       "      <th>16</th>\n",
       "      <td>2023-07-12 15:30:40</td>\n",
       "      <td>Sell</td>\n",
       "      <td>0.01</td>\n",
       "      <td>USDCAD</td>\n",
       "      <td>1.32108</td>\n",
       "      <td>2023-07-12 15:31:10</td>\n",
       "      <td>1.32150</td>\n",
       "      <td>0.0</td>\n",
       "      <td>0.00</td>\n",
       "      <td>114.61</td>\n",
       "      <td>0.00</td>\n",
       "      <td>0.500000</td>\n",
       "      <td>17.928287</td>\n",
       "      <td>4.200</td>\n",
       "      <td>8.725242</td>\n",
       "      <td>0.000000</td>\n",
       "    </tr>\n",
       "    <tr>\n",
       "      <th>17</th>\n",
       "      <td>2023-07-12 15:35:12</td>\n",
       "      <td>Buy</td>\n",
       "      <td>0.01</td>\n",
       "      <td>GBPUSD</td>\n",
       "      <td>1.29567</td>\n",
       "      <td>2023-07-12 15:37:42</td>\n",
       "      <td>1.29597</td>\n",
       "      <td>0.0</td>\n",
       "      <td>0.30</td>\n",
       "      <td>114.91</td>\n",
       "      <td>0.30</td>\n",
       "      <td>2.500000</td>\n",
       "      <td>7.370518</td>\n",
       "      <td>3.000</td>\n",
       "      <td>8.702463</td>\n",
       "      <td>0.261074</td>\n",
       "    </tr>\n",
       "    <tr>\n",
       "      <th>18</th>\n",
       "      <td>2023-07-12 15:38:59</td>\n",
       "      <td>Buy</td>\n",
       "      <td>0.01</td>\n",
       "      <td>GBPUSD</td>\n",
       "      <td>1.29745</td>\n",
       "      <td>2023-07-12 15:55:50</td>\n",
       "      <td>1.29499</td>\n",
       "      <td>0.0</td>\n",
       "      <td>-2.46</td>\n",
       "      <td>112.45</td>\n",
       "      <td>-2.46</td>\n",
       "      <td>16.850000</td>\n",
       "      <td>7.370518</td>\n",
       "      <td>24.600</td>\n",
       "      <td>8.892841</td>\n",
       "      <td>-2.187639</td>\n",
       "    </tr>\n",
       "    <tr>\n",
       "      <th>19</th>\n",
       "      <td>2023-07-12 15:38:31</td>\n",
       "      <td>Buy</td>\n",
       "      <td>0.01</td>\n",
       "      <td>NZDUSD</td>\n",
       "      <td>0.62435</td>\n",
       "      <td>2023-07-12 15:55:53</td>\n",
       "      <td>0.62286</td>\n",
       "      <td>0.0</td>\n",
       "      <td>-1.49</td>\n",
       "      <td>110.96</td>\n",
       "      <td>-1.49</td>\n",
       "      <td>17.366667</td>\n",
       "      <td>11.354582</td>\n",
       "      <td>14.900</td>\n",
       "      <td>9.012257</td>\n",
       "      <td>-1.342826</td>\n",
       "    </tr>\n",
       "  </tbody>\n",
       "</table>\n",
       "</div>"
      ],
      "text/plain": [
       "                  Time  Type  Volume  Symbol      Price              Time.1  \\\n",
       "0  2023-07-10 09:20:55   Buy    0.02  GBPUSD    1.28063 2023-07-10 09:55:01   \n",
       "1  2023-07-10 10:15:44   Buy    0.02  AUDUSD    0.66509 2023-07-10 16:55:18   \n",
       "2  2023-07-10 10:16:49   Buy    0.02  NZDUSD    0.61852 2023-07-10 16:55:21   \n",
       "3  2023-07-10 12:53:57   Buy    0.01  AUDUSD    0.66362 2023-07-10 16:56:29   \n",
       "4  2023-07-10 19:31:17  Sell    0.01  AUDCAD    0.88590 2023-07-10 19:37:36   \n",
       "5  2023-07-10 19:35:30   Buy    0.01  AUDCAD    0.88618 2023-07-10 19:37:36   \n",
       "6  2023-07-11 14:21:49   Buy    0.01  NZDUSD    0.61863 2023-07-11 14:48:19   \n",
       "7  2023-07-11 12:10:57   Buy    0.01  NZDUSD    0.61868 2023-07-11 14:48:22   \n",
       "8  2023-07-11 12:03:51   Buy    0.01  NZDUSD    0.61873 2023-07-11 14:48:25   \n",
       "9  2023-07-11 14:01:35  Sell    0.01  GBPUSD    1.29149 2023-07-11 18:20:05   \n",
       "10 2023-07-11 14:54:37  Sell    0.01  GBPUSD    1.29068 2023-07-11 18:20:08   \n",
       "11 2023-07-12 08:38:18  Sell    0.01  EURUSD    1.10287 2023-07-12 09:00:37   \n",
       "12 2023-07-12 11:26:53  Sell    0.01  EURUSD    1.10260 2023-07-12 12:35:16   \n",
       "13 2023-07-12 13:42:21   Buy    0.01  EURCHF    0.96834 2023-07-12 15:29:22   \n",
       "14 2023-07-12 13:00:47   Buy    0.01  USDJPY  139.66200 2023-07-12 15:30:02   \n",
       "15 2023-07-12 13:08:43   Buy    0.01  USDCAD    1.32150 2023-07-12 15:31:10   \n",
       "16 2023-07-12 15:30:40  Sell    0.01  USDCAD    1.32108 2023-07-12 15:31:10   \n",
       "17 2023-07-12 15:35:12   Buy    0.01  GBPUSD    1.29567 2023-07-12 15:37:42   \n",
       "18 2023-07-12 15:38:59   Buy    0.01  GBPUSD    1.29745 2023-07-12 15:55:50   \n",
       "19 2023-07-12 15:38:31   Buy    0.01  NZDUSD    0.62435 2023-07-12 15:55:53   \n",
       "\n",
       "      Price.1  Commission  Profit  balance  net_profit  time_diff_minute  \\\n",
       "0     1.28099         0.0    0.72   116.89        0.72         34.100000   \n",
       "1     0.66545         0.0    0.72   117.61        0.72        399.566667   \n",
       "2     0.61915         0.0    1.26   118.87        1.26        398.533333   \n",
       "3     0.66569         0.0    2.07   120.94        2.07        242.533333   \n",
       "4     0.88618         0.0    0.00   120.94        0.00          6.316667   \n",
       "5     0.88590         0.0   -0.21   120.73       -0.21          2.100000   \n",
       "6     0.61762         0.0   -1.01   119.72       -1.01         26.500000   \n",
       "7     0.61764         0.0   -1.04   118.68       -1.04        157.416667   \n",
       "8     0.61764         0.0   -1.09   117.59       -1.09        164.566667   \n",
       "9     1.28967         0.0    1.82   119.41        1.82        258.500000   \n",
       "10    1.28967         0.0    1.01   120.42        1.01        205.516667   \n",
       "11    1.10283         0.0    0.04   120.46        0.04         22.316667   \n",
       "12    1.10247         0.0    0.13   120.59        0.13         68.383333   \n",
       "13    0.96693         0.0   -1.61   118.98       -1.61        107.016667   \n",
       "14  139.09800         0.0   -4.05   114.93       -4.05        149.250000   \n",
       "15    1.32108         0.0   -0.32   114.61       -0.32        142.450000   \n",
       "16    1.32150         0.0    0.00   114.61        0.00          0.500000   \n",
       "17    1.29597         0.0    0.30   114.91        0.30          2.500000   \n",
       "18    1.29499         0.0   -2.46   112.45       -2.46         16.850000   \n",
       "19    0.62286         0.0   -1.49   110.96       -1.49         17.366667   \n",
       "\n",
       "    Symbol_percent_trader  pip_diff        v/b  percent_profit  \n",
       "0                7.370518     3.600  17.110104        0.615964  \n",
       "1                8.466135     3.600  17.005357        0.612193  \n",
       "2               11.354582     6.300  16.825103        1.059981  \n",
       "3                8.466135    20.700   8.268563        1.711593  \n",
       "4                0.199203     2.800   8.268563        0.000000  \n",
       "5                0.199203     2.800   8.282945       -0.173942  \n",
       "6               11.354582    10.100   8.352823       -0.843635  \n",
       "7               11.354582    10.400   8.426020       -0.876306  \n",
       "8               11.354582    10.900   8.504125       -0.926950  \n",
       "9                7.370518    18.200   8.374508        1.524160  \n",
       "10               7.370518    10.100   8.304268        0.838731  \n",
       "11               8.665339     0.400   8.301511        0.033206  \n",
       "12               8.665339     1.300   8.292562        0.107803  \n",
       "13               0.199203    14.100   8.404774       -1.353169  \n",
       "14               9.063745     0.564   8.700948       -3.523884  \n",
       "15              17.928287     4.200   8.725242       -0.279208  \n",
       "16              17.928287     4.200   8.725242        0.000000  \n",
       "17               7.370518     3.000   8.702463        0.261074  \n",
       "18               7.370518    24.600   8.892841       -2.187639  \n",
       "19              11.354582    14.900   9.012257       -1.342826  "
      ]
     },
     "execution_count": 115,
     "metadata": {},
     "output_type": "execute_result"
    }
   ],
   "source": [
    "dff.head(20)"
   ]
  },
  {
   "cell_type": "code",
   "execution_count": 124,
   "metadata": {},
   "outputs": [
    {
     "ename": "ValueError",
     "evalue": "Mime type rendering requires nbformat>=4.2.0 but it is not installed",
     "output_type": "error",
     "traceback": [
      "\u001b[1;31m---------------------------------------------------------------------------\u001b[0m",
      "\u001b[1;31mValueError\u001b[0m                                Traceback (most recent call last)",
      "File \u001b[1;32md:\\env\\analysis\\lib\\site-packages\\IPython\\core\\formatters.py:922\u001b[0m, in \u001b[0;36mIPythonDisplayFormatter.__call__\u001b[1;34m(self, obj)\u001b[0m\n\u001b[0;32m    920\u001b[0m method \u001b[38;5;241m=\u001b[39m get_real_method(obj, \u001b[38;5;28mself\u001b[39m\u001b[38;5;241m.\u001b[39mprint_method)\n\u001b[0;32m    921\u001b[0m \u001b[38;5;28;01mif\u001b[39;00m method \u001b[38;5;129;01mis\u001b[39;00m \u001b[38;5;129;01mnot\u001b[39;00m \u001b[38;5;28;01mNone\u001b[39;00m:\n\u001b[1;32m--> 922\u001b[0m     \u001b[43mmethod\u001b[49m\u001b[43m(\u001b[49m\u001b[43m)\u001b[49m\n\u001b[0;32m    923\u001b[0m     \u001b[38;5;28;01mreturn\u001b[39;00m \u001b[38;5;28;01mTrue\u001b[39;00m\n",
      "File \u001b[1;32md:\\env\\analysis\\lib\\site-packages\\plotly\\basedatatypes.py:832\u001b[0m, in \u001b[0;36mBaseFigure._ipython_display_\u001b[1;34m(self)\u001b[0m\n\u001b[0;32m    829\u001b[0m \u001b[38;5;28;01mimport\u001b[39;00m \u001b[38;5;21;01mplotly\u001b[39;00m\u001b[38;5;21;01m.\u001b[39;00m\u001b[38;5;21;01mio\u001b[39;00m \u001b[38;5;28;01mas\u001b[39;00m \u001b[38;5;21;01mpio\u001b[39;00m\n\u001b[0;32m    831\u001b[0m \u001b[38;5;28;01mif\u001b[39;00m pio\u001b[38;5;241m.\u001b[39mrenderers\u001b[38;5;241m.\u001b[39mrender_on_display \u001b[38;5;129;01mand\u001b[39;00m pio\u001b[38;5;241m.\u001b[39mrenderers\u001b[38;5;241m.\u001b[39mdefault:\n\u001b[1;32m--> 832\u001b[0m     \u001b[43mpio\u001b[49m\u001b[38;5;241;43m.\u001b[39;49m\u001b[43mshow\u001b[49m\u001b[43m(\u001b[49m\u001b[38;5;28;43mself\u001b[39;49m\u001b[43m)\u001b[49m\n\u001b[0;32m    833\u001b[0m \u001b[38;5;28;01melse\u001b[39;00m:\n\u001b[0;32m    834\u001b[0m     \u001b[38;5;28mprint\u001b[39m(\u001b[38;5;28mrepr\u001b[39m(\u001b[38;5;28mself\u001b[39m))\n",
      "File \u001b[1;32md:\\env\\analysis\\lib\\site-packages\\plotly\\io\\_renderers.py:394\u001b[0m, in \u001b[0;36mshow\u001b[1;34m(fig, renderer, validate, **kwargs)\u001b[0m\n\u001b[0;32m    389\u001b[0m         \u001b[38;5;28;01mraise\u001b[39;00m \u001b[38;5;167;01mValueError\u001b[39;00m(\n\u001b[0;32m    390\u001b[0m             \u001b[38;5;124m\"\u001b[39m\u001b[38;5;124mMime type rendering requires ipython but it is not installed\u001b[39m\u001b[38;5;124m\"\u001b[39m\n\u001b[0;32m    391\u001b[0m         )\n\u001b[0;32m    393\u001b[0m     \u001b[38;5;28;01mif\u001b[39;00m \u001b[38;5;129;01mnot\u001b[39;00m nbformat \u001b[38;5;129;01mor\u001b[39;00m Version(nbformat\u001b[38;5;241m.\u001b[39m__version__) \u001b[38;5;241m<\u001b[39m Version(\u001b[38;5;124m\"\u001b[39m\u001b[38;5;124m4.2.0\u001b[39m\u001b[38;5;124m\"\u001b[39m):\n\u001b[1;32m--> 394\u001b[0m         \u001b[38;5;28;01mraise\u001b[39;00m \u001b[38;5;167;01mValueError\u001b[39;00m(\n\u001b[0;32m    395\u001b[0m             \u001b[38;5;124m\"\u001b[39m\u001b[38;5;124mMime type rendering requires nbformat>=4.2.0 but it is not installed\u001b[39m\u001b[38;5;124m\"\u001b[39m\n\u001b[0;32m    396\u001b[0m         )\n\u001b[0;32m    398\u001b[0m     ipython_display\u001b[38;5;241m.\u001b[39mdisplay(bundle, raw\u001b[38;5;241m=\u001b[39m\u001b[38;5;28;01mTrue\u001b[39;00m)\n\u001b[0;32m    400\u001b[0m \u001b[38;5;66;03m# external renderers\u001b[39;00m\n",
      "\u001b[1;31mValueError\u001b[0m: Mime type rendering requires nbformat>=4.2.0 but it is not installed"
     ]
    },
    {
     "data": {
      "application/vnd.plotly.v1+json": {
       "config": {
        "plotlyServerURL": "https://plot.ly"
       },
       "data": [
        {
         "alignmentgroup": "True",
         "bingroup": "x",
         "hovertemplate": "time_diff_minute=%{x}<br>count=%{y}<extra></extra>",
         "legendgroup": "",
         "marker": {
          "color": "#636efa",
          "pattern": {
           "shape": ""
          }
         },
         "name": "",
         "nbinsx": 1000,
         "offsetgroup": "",
         "orientation": "v",
         "showlegend": false,
         "type": "histogram",
         "x": [
          34.1,
          399.56666666666666,
          398.53333333333336,
          242.53333333333333,
          6.316666666666666,
          2.1,
          26.5,
          157.41666666666666,
          164.56666666666666,
          258.5,
          205.51666666666668,
          22.316666666666666,
          68.38333333333334,
          107.01666666666667,
          149.25,
          142.45,
          0.5,
          2.5,
          16.85,
          17.366666666666667,
          19.033333333333335,
          26.183333333333334,
          15.65,
          49.766666666666666,
          27.183333333333334,
          6.766666666666667,
          0.2833333333333333,
          2.1666666666666665,
          15.65,
          6.483333333333333,
          8.083333333333334,
          15.616666666666667,
          72,
          3.45,
          11.5,
          6.316666666666666,
          15.416666666666666,
          25.35,
          66.61666666666666,
          14.666666666666666,
          68.31666666666666,
          202.06666666666666,
          0.15,
          129.98333333333332,
          128.91666666666666,
          102.95,
          3941.9,
          1080.7333333333333,
          928.6833333333333,
          56.15,
          42.93333333333333,
          406.96666666666664,
          590.9666666666667,
          1137.2,
          166.2,
          232.08333333333334,
          521.6166666666667,
          512.4833333333333,
          334.51666666666665,
          336.5,
          187.53333333333333,
          60.61666666666667,
          65.65,
          432.51666666666665,
          559.8833333333333,
          525.9333333333333,
          500.4,
          428.78333333333336,
          107.36666666666666,
          250.23333333333332,
          1042.0666666666666,
          571.0666666666667,
          12.466666666666667,
          14.083333333333334,
          12.7,
          60.88333333333333,
          71.35,
          3.683333333333333,
          166.96666666666667,
          1904.4333333333334,
          1158.9166666666667,
          264.8,
          183.13333333333333,
          124.05,
          156.26666666666668,
          121.05,
          11.633333333333333,
          175.96666666666667,
          166.96666666666667,
          289.48333333333335,
          3678.6,
          150.01666666666668,
          195.61666666666667,
          355.43333333333334,
          130.71666666666667,
          473.93333333333334,
          625.2,
          3817.25,
          287.8333333333333,
          0.23333333333333334,
          8.45,
          0.18333333333333332,
          1310.4666666666667,
          24.833333333333332,
          152.98333333333332,
          0.25,
          0.3,
          519.45,
          0.5,
          0.11666666666666667,
          211.36666666666667,
          175.16666666666666,
          179.86666666666667,
          3.433333333333333,
          1345.0333333333333,
          1085.6333333333334,
          217.36666666666667,
          461.6333333333333,
          215.01666666666668,
          451.31666666666666,
          211.83333333333334,
          709.25,
          342.76666666666665,
          48.06666666666667,
          1255.5666666666666,
          22.8,
          3530.0666666666666,
          127.26666666666667,
          70.45,
          3726.383333333333,
          3893.883333333333,
          206.5,
          77.06666666666666,
          76.91666666666667,
          62.93333333333333,
          316.1666666666667,
          381.78333333333336,
          381.5833333333333,
          70.38333333333334,
          70.23333333333333,
          13.183333333333334,
          946.7833333333333,
          945.4833333333333,
          945.3666666666667,
          1375.65,
          186.81666666666666,
          125.35,
          1421.05,
          1509.95,
          573.9,
          2046.7833333333333,
          2894.0833333333335,
          2984.1666666666665,
          2133.95,
          113.13333333333334,
          3488.7833333333333,
          538.85,
          484.68333333333334,
          640.8,
          84.36666666666666,
          122.2,
          7.8,
          697.8333333333334,
          751.0666666666667,
          315.75,
          299.9166666666667,
          85.93333333333334,
          108.23333333333333,
          57.766666666666666,
          1283.4666666666667,
          1303.7,
          12.75,
          14.216666666666667,
          1111.2,
          4086.0833333333335,
          26.7,
          282.48333333333335,
          357.1166666666667,
          1217.4,
          65.15,
          1358,
          371.1,
          175.83333333333334,
          118.95,
          64.93333333333334,
          4412.016666666666,
          653.35,
          7.916666666666667,
          242.93333333333334,
          1117.3333333333333,
          1388.6666666666667,
          956.7166666666667,
          1223.9833333333333,
          1169.1166666666666,
          1294.2166666666667,
          1202.7833333333333,
          1318.7666666666667,
          464.7,
          525.45,
          305.23333333333335,
          60.9,
          18.133333333333333,
          224.16666666666666,
          21.133333333333333,
          21.833333333333332,
          48.35,
          50.96666666666667,
          151.35,
          132.75,
          123.86666666666666,
          96.9,
          119,
          72.93333333333334,
          135.95,
          128.83333333333334,
          0.2,
          0.38333333333333336,
          12.416666666666666,
          12.4,
          8.983333333333333,
          22.066666666666666,
          2248.266666666667,
          480.55,
          36.45,
          499.3,
          499.03333333333336,
          724.6833333333333,
          682.65,
          383.78333333333336,
          332.25,
          149.95,
          23,
          21.916666666666668,
          213.01666666666668,
          48.916666666666664,
          225.31666666666666,
          201.5,
          23.833333333333332,
          21.15,
          740.2666666666667,
          822.4833333333333,
          293.6333333333333,
          227.86666666666667,
          265.76666666666665,
          288.15,
          472.46666666666664,
          10.833333333333334,
          1022.6833333333333,
          37,
          419.21666666666664,
          1331.55,
          53.233333333333334,
          598.6,
          366.15,
          315.5833333333333,
          125.43333333333334,
          403.1,
          3250.9333333333334,
          468.9,
          127.58333333333333,
          105.23333333333333,
          1086.5333333333333,
          1160.2166666666667,
          1095.25,
          982.95,
          574.7,
          598.5666666666667,
          153.58333333333334,
          28.183333333333334,
          196.85,
          184.7,
          209.08333333333334,
          185.31666666666666,
          453.4,
          55.55,
          199.51666666666668,
          45.416666666666664,
          145.86666666666667,
          620.25,
          552.25,
          522.0333333333333,
          229.85,
          945.75,
          366.85,
          1136.9,
          460.31666666666666,
          2.4166666666666665,
          147.68333333333334,
          139.48333333333332,
          65.58333333333333,
          1766.6666666666667,
          3.816666666666667,
          241.08333333333334,
          313.4,
          55.083333333333336,
          1054.6,
          4027.4666666666667,
          1260.9,
          133.71666666666667,
          2996.9166666666665,
          1363.1833333333334,
          1362.95,
          1764.7666666666667,
          4127.633333333333,
          1351.7,
          16.816666666666666,
          78.03333333333333,
          76.31666666666666,
          33.15,
          34.45,
          3251.5833333333335,
          3272.8333333333335,
          3267.3166666666666,
          2665,
          1131.3166666666666,
          88.51666666666667,
          39.93333333333333,
          259.21666666666664,
          245.45,
          243.33333333333334,
          91.98333333333333,
          106.2,
          9.033333333333333,
          34.05,
          114.13333333333334,
          115.51666666666667,
          109.03333333333333,
          31.366666666666667,
          338.21666666666664,
          141.4,
          183.2,
          178.83333333333334,
          3.183333333333333,
          76.28333333333333,
          12678.75,
          190.95,
          76.58333333333333,
          953.35,
          51.88333333333333,
          65.11666666666666,
          271.85,
          8.633333333333333,
          126.25,
          160.35,
          12.316666666666666,
          945.3833333333333,
          608.2666666666667,
          881.7833333333333,
          265.9,
          324.03333333333336,
          8.9,
          1038.2166666666667,
          8.583333333333334,
          64.4,
          43.38333333333333,
          120.55,
          32.55,
          11.966666666666667,
          326.98333333333335,
          219.18333333333334,
          21.866666666666667,
          21.383333333333333,
          35.416666666666664,
          53.15,
          133.83333333333334,
          154.85,
          930.1166666666667,
          1038.8833333333334,
          1038.95,
          961.1166666666667,
          955.1666666666666,
          181.15,
          179.35,
          126.91666666666667,
          120.81666666666666,
          26.383333333333333,
          9.6,
          40.2,
          10.016666666666667,
          92.28333333333333,
          210.55,
          224.5,
          1129.25,
          401.96666666666664,
          373.5833333333333,
          694,
          5884.216666666666,
          223.35,
          215.01666666666668,
          6030.766666666666,
          3.6333333333333333,
          85.6,
          80.61666666666666,
          240.73333333333332,
          506.56666666666666,
          0.85,
          1035.4166666666667,
          91,
          0.18333333333333332,
          142.6,
          148.41666666666666,
          1315.6666666666667,
          287.9,
          1202.7666666666667,
          197.36666666666667,
          146.3,
          50.31666666666667,
          26.916666666666668,
          55.166666666666664,
          51.56666666666667,
          46.86666666666667,
          16.5,
          24.983333333333334,
          13.05,
          26.2,
          18.433333333333334,
          44.56666666666667,
          95.68333333333334,
          131.46666666666667,
          133.03333333333333,
          54.81666666666667,
          73.15,
          583.55,
          448.3333333333333,
          684.0666666666667,
          196.91666666666666,
          43.983333333333334,
          683.2166666666667,
          1390.1833333333334,
          58.083333333333336,
          36.583333333333336,
          35.983333333333334,
          35.416666666666664,
          0.8333333333333334,
          174.3,
          174.16666666666666,
          950.6166666666667,
          232.13333333333333,
          188.85,
          228.21666666666667,
          1.65,
          89.5,
          127.73333333333333,
          249.31666666666666,
          247.36666666666667,
          289.81666666666666,
          19.75,
          38.416666666666664,
          40.25,
          1450.6,
          1844.6,
          346.1666666666667,
          1471.4666666666667,
          82.68333333333334,
          24.733333333333334,
          31.983333333333334,
          5231.616666666667,
          442.71666666666664,
          432,
          301.31666666666666,
          291.23333333333335,
          62.45,
          78.21666666666667,
          112.83333333333333,
          554.8166666666667,
          216.56666666666666,
          445.53333333333336,
          202.08333333333334,
          399.4,
          294,
          88.43333333333334,
          82.96666666666667,
          23.2,
          28.65,
          422.8833333333333,
          454.6666666666667,
          92.15,
          729.8,
          92.56666666666666,
          1401.25,
          1291.7833333333333,
          108.66666666666667,
          249.91666666666666,
          153.61666666666667,
          69.45,
          4.083333333333333,
          867.9666666666667,
          851.9333333333333,
          254.33333333333334,
          4.233333333333333,
          7.316666666666666,
          4.816666666666666,
          10.366666666666667,
          14.783333333333333,
          178.96666666666667,
          185.4,
          182.26666666666668,
          178.45,
          148.76666666666668,
          179.36666666666667,
          681.7333333333333,
          667.8166666666667,
          30.5,
          668.25,
          46.85,
          45.93333333333333,
          41.56666666666667,
          668.45,
          129.23333333333332,
          528.6833333333333,
          516.1833333333333,
          450.5833333333333,
          433.26666666666665,
          253.96666666666667,
          10.6,
          16.983333333333334,
          16.033333333333335,
          31.033333333333335,
          6.666666666666667,
          22.3,
          7.05,
          2403.633333333333,
          289.25,
          7.516666666666667,
          13.283333333333333,
          12.833333333333334,
          67.35,
          19.9,
          87.95,
          62.333333333333336,
          248.73333333333332,
          252.73333333333332,
          302.6333333333333,
          18.666666666666668,
          545.7166666666667,
          906.9,
          823.6166666666667,
          58.8,
          972.3166666666667,
          3744.4166666666665,
          3743.9166666666665,
          52.93333333333333,
          4.916666666666667,
          5.083333333333333,
          10.633333333333333,
          146.58333333333334,
          7.266666666666667,
          156,
          48.6,
          43.93333333333333,
          260.6,
          273.55,
          1084.6833333333334,
          70.75,
          267.1333333333333,
          270.53333333333336,
          110.16666666666667,
          13.966666666666667,
          13.983333333333333,
          4.616666666666666,
          95.28333333333333,
          3.05,
          40.21666666666667,
          718.25,
          31.7,
          78.63333333333334,
          334.9166666666667,
          262.18333333333334,
          948.15,
          385.4,
          320.6,
          140.91666666666666,
          26.683333333333334,
          25.883333333333333,
          238.21666666666667,
          235.05,
          220.46666666666667,
          240.3,
          9.383333333333333,
          110.31666666666666,
          595.6,
          1023.8333333333334,
          1045.2,
          360.3833333333333,
          1003.35,
          479.4166666666667,
          164.31666666666666,
          481.18333333333334,
          479.9,
          1024.2833333333333,
          492.3333333333333,
          480.21666666666664,
          486.85,
          0.38333333333333336,
          20.5,
          23.916666666666668,
          29.433333333333334,
          265.5,
          1319.0833333333333,
          1144.0833333333333,
          68.2,
          490.45,
          490.15,
          36.86666666666667,
          51.36666666666667,
          57.61666666666667,
          21.416666666666668,
          1124.6,
          138.18333333333334,
          1133.9166666666667,
          121.73333333333333,
          122.56666666666666,
          18.916666666666668,
          303.5833333333333,
          1302.1333333333334,
          1302.15,
          412.31666666666666,
          4133.05,
          4131.65,
          4531.166666666667,
          4068.0833333333335,
          4308.85,
          53.9,
          11.183333333333334,
          39.06666666666667,
          38.166666666666664,
          380.3833333333333,
          19.566666666666666,
          12.25,
          26.033333333333335,
          31.333333333333332,
          59,
          416.3833333333333,
          44.65,
          763.1666666666666,
          95.9,
          43.13333333333333,
          269.46666666666664,
          238.68333333333334,
          96.88333333333334,
          40.53333333333333,
          23.916666666666668,
          193.76666666666668,
          206.7,
          259.18333333333334,
          350.8833333333333,
          29.6,
          420.9166666666667,
          624.8666666666667,
          112.75,
          71,
          429.8333333333333,
          13.666666666666666,
          665.5833333333334,
          458.1666666666667,
          459.01666666666665,
          6.216666666666667,
          16.1,
          15.516666666666667,
          15.133333333333333,
          12.733333333333333,
          26.766666666666666,
          58.266666666666666,
          35.333333333333336,
          23.883333333333333,
          61.71666666666667,
          15.883333333333333,
          7.266666666666667,
          26.333333333333332,
          191.43333333333334,
          282.06666666666666,
          76.16666666666667,
          1251.0333333333333,
          255.61666666666667,
          18.033333333333335,
          11.566666666666666,
          12.8,
          12.416666666666666,
          16.85,
          4.5,
          2.7666666666666666,
          267.31666666666666,
          261.78333333333336,
          8.85,
          271.21666666666664,
          9.65,
          963.2166666666667,
          1108.5833333333333,
          279.48333333333335,
          46.85,
          33.93333333333333,
          709.65,
          680.7333333333333,
          690.5666666666667,
          3136.616666666667,
          3139.8,
          26.383333333333333,
          24.333333333333332,
          82.91666666666667,
          534.9166666666666,
          542.75,
          602.6666666666666,
          112.61666666666666,
          1.35,
          31.366666666666667,
          474.05,
          33.15,
          18.233333333333334,
          385.31666666666666,
          369.76666666666665,
          357.8333333333333,
          6.15,
          202.43333333333334,
          231.26666666666668,
          197.45,
          123.2,
          29.316666666666666,
          51.68333333333333,
          420.21666666666664,
          39.7,
          398.53333333333336,
          36.483333333333334,
          39.75,
          38.11666666666667,
          71.68333333333334,
          15.05,
          57.6,
          46,
          53.6,
          9.35,
          29.783333333333335,
          34.06666666666667,
          296.5,
          1257.4833333333333,
          1230.9833333333333,
          919.7166666666667,
          884.6333333333333,
          420.35,
          363.55,
          622.55,
          502.6333333333333,
          612.1333333333333,
          601.6166666666667,
          818.2166666666667,
          818.3833333333333,
          49.18333333333333,
          193.4,
          205.88333333333333,
          202.23333333333332,
          83.53333333333333,
          6.783333333333333,
          175.75,
          1489.5833333333333,
          103.4,
          1163.5166666666667,
          108.26666666666667,
          216.4,
          218.15,
          214.93333333333334,
          3903.7833333333333,
          3868.983333333333,
          3662.6666666666665,
          55.166666666666664,
          27.433333333333334,
          4238.483333333334,
          1652.7166666666667,
          1653.0333333333333,
          280.31666666666666,
          403.31666666666666,
          196.26666666666668,
          404.5833333333333,
          330.68333333333334,
          65.58333333333333,
          30.75,
          246.8,
          330.15,
          1109.0333333333333,
          615.8666666666667,
          1115.3833333333334,
          617.4833333333333,
          53.36666666666667,
          37.016666666666666,
          33.016666666666666,
          25.383333333333333,
          111.63333333333334,
          292.5833333333333,
          149.08333333333334,
          1.5333333333333334,
          656.1333333333333,
          734.9333333333333,
          803.9666666666667,
          23.033333333333335,
          44.21666666666667,
          31.8,
          27.116666666666667,
          21.566666666666666,
          51.71666666666667,
          17.533333333333335,
          89.6,
          134.11666666666667,
          1156.8666666666666,
          1298.1666666666667,
          51.86666666666667,
          54.56666666666667,
          838.3,
          303.73333333333335,
          466.3333333333333,
          272.65,
          3922.9166666666665,
          4400.7,
          5622.1,
          708.2833333333333,
          1519.6166666666666,
          1394.45,
          1138.5333333333333,
          888.9333333333333,
          271.3666666666667,
          260,
          29.4,
          944.7166666666667,
          81.86666666666666,
          87.21666666666667,
          22.883333333333333,
          1056.5166666666667,
          1141.0333333333333,
          242.38333333333333,
          4512.116666666667,
          4396.583333333333,
          151.45,
          1094.4333333333334,
          2561.95,
          2162.9,
          3754.2166666666667,
          833.1166666666667,
          1873.4333333333334,
          333.81666666666666,
          26.766666666666666,
          750.5,
          80.45,
          140.68333333333334,
          645.7,
          383.71666666666664,
          4.9,
          205.5,
          106.33333333333333,
          45.86666666666667,
          63.5,
          57.21666666666667,
          86.26666666666667,
          1405.4666666666667,
          12.5,
          446,
          112.41666666666667,
          174.06666666666666,
          1389.85,
          1318.6,
          55.833333333333336,
          579.1166666666667,
          578.8666666666667,
          145.95,
          3.25,
          281.53333333333336,
          61.983333333333334,
          50.4,
          25.533333333333335,
          90.73333333333333,
          165.43333333333334,
          34.266666666666666,
          15.016666666666667,
          44.75,
          54.6,
          10.866666666666667,
          266.3833333333333,
          750.5333333333333,
          709.45,
          233.95,
          93.06666666666666,
          67.88333333333334,
          62.65,
          1429.15,
          294.8333333333333,
          294.26666666666665,
          232.56666666666666,
          293.78333333333336,
          238.35,
          1795.1333333333334,
          11.216666666666667,
          3105.1666666666665,
          3071.633333333333,
          3066.85,
          3054.45,
          3070.9666666666667,
          207.31666666666666,
          143.35,
          143.1,
          88.01666666666667,
          21.533333333333335,
          33.21666666666667,
          1068.2666666666667,
          1343.3,
          1342.8833333333334,
          1312.4666666666667,
          430.1166666666667,
          150.26666666666668,
          956.85,
          1204.9,
          935.65,
          1059.8666666666666,
          570.2166666666667,
          490.43333333333334,
          1169.0166666666667,
          1396.7333333333333,
          1089.25,
          176.55,
          35.983333333333334,
          680.1166666666667,
          679.35,
          218.63333333333333,
          84.11666666666666,
          188.45,
          187.63333333333333,
          389.43333333333334,
          86.9,
          86.73333333333333,
          209.85,
          3792.6,
          57.38333333333333,
          35.38333333333333,
          565,
          761.6166666666667,
          1071.3,
          1070.8,
          2712.633333333333,
          584.6666666666666,
          152.55,
          4.666666666666667,
          4.166666666666667,
          911.3666666666667,
          5679.766666666666,
          2073.4333333333334,
          821.8333333333334,
          1309.85,
          659.5,
          89.08333333333333,
          109.73333333333333,
          702.4166666666666,
          62.5,
          61.6,
          353.56666666666666,
          795.6166666666667,
          782.25,
          111.58333333333333,
          410.3666666666667,
          75.91666666666667,
          775.9833333333333,
          647.15,
          394.3333333333333,
          537.05,
          1332.6833333333334,
          1315.3,
          924.8,
          209.56666666666666,
          184.78333333333333,
          69.2,
          404.21666666666664,
          253.2,
          723.4,
          55.8,
          1221.05,
          524.1166666666667,
          1088.0166666666667,
          213.18333333333334,
          7.116666666666666,
          73,
          1054.5666666666666,
          32.75,
          184.16666666666666,
          357.78333333333336,
          409.18333333333334,
          105.06666666666666,
          427.28333333333336,
          2711.0666666666666,
          2031.95,
          794.9,
          541.65,
          46.85,
          207.55,
          200.98333333333332,
          165.01666666666668,
          342.93333333333334,
          251.06666666666666,
          3.1333333333333333,
          448.21666666666664,
          96.56666666666666,
          48.05,
          682.3333333333334,
          138.23333333333332,
          105.45,
          1216.3833333333334,
          3130.7833333333333,
          647.0166666666667,
          63.03333333333333,
          3.0166666666666666,
          409.2
         ],
         "xaxis": "x",
         "yaxis": "y"
        }
       ],
       "layout": {
        "barmode": "relative",
        "legend": {
         "tracegroupgap": 0
        },
        "margin": {
         "t": 60
        },
        "template": {
         "data": {
          "bar": [
           {
            "error_x": {
             "color": "#2a3f5f"
            },
            "error_y": {
             "color": "#2a3f5f"
            },
            "marker": {
             "line": {
              "color": "#E5ECF6",
              "width": 0.5
             },
             "pattern": {
              "fillmode": "overlay",
              "size": 10,
              "solidity": 0.2
             }
            },
            "type": "bar"
           }
          ],
          "barpolar": [
           {
            "marker": {
             "line": {
              "color": "#E5ECF6",
              "width": 0.5
             },
             "pattern": {
              "fillmode": "overlay",
              "size": 10,
              "solidity": 0.2
             }
            },
            "type": "barpolar"
           }
          ],
          "carpet": [
           {
            "aaxis": {
             "endlinecolor": "#2a3f5f",
             "gridcolor": "white",
             "linecolor": "white",
             "minorgridcolor": "white",
             "startlinecolor": "#2a3f5f"
            },
            "baxis": {
             "endlinecolor": "#2a3f5f",
             "gridcolor": "white",
             "linecolor": "white",
             "minorgridcolor": "white",
             "startlinecolor": "#2a3f5f"
            },
            "type": "carpet"
           }
          ],
          "choropleth": [
           {
            "colorbar": {
             "outlinewidth": 0,
             "ticks": ""
            },
            "type": "choropleth"
           }
          ],
          "contour": [
           {
            "colorbar": {
             "outlinewidth": 0,
             "ticks": ""
            },
            "colorscale": [
             [
              0,
              "#0d0887"
             ],
             [
              0.1111111111111111,
              "#46039f"
             ],
             [
              0.2222222222222222,
              "#7201a8"
             ],
             [
              0.3333333333333333,
              "#9c179e"
             ],
             [
              0.4444444444444444,
              "#bd3786"
             ],
             [
              0.5555555555555556,
              "#d8576b"
             ],
             [
              0.6666666666666666,
              "#ed7953"
             ],
             [
              0.7777777777777778,
              "#fb9f3a"
             ],
             [
              0.8888888888888888,
              "#fdca26"
             ],
             [
              1,
              "#f0f921"
             ]
            ],
            "type": "contour"
           }
          ],
          "contourcarpet": [
           {
            "colorbar": {
             "outlinewidth": 0,
             "ticks": ""
            },
            "type": "contourcarpet"
           }
          ],
          "heatmap": [
           {
            "colorbar": {
             "outlinewidth": 0,
             "ticks": ""
            },
            "colorscale": [
             [
              0,
              "#0d0887"
             ],
             [
              0.1111111111111111,
              "#46039f"
             ],
             [
              0.2222222222222222,
              "#7201a8"
             ],
             [
              0.3333333333333333,
              "#9c179e"
             ],
             [
              0.4444444444444444,
              "#bd3786"
             ],
             [
              0.5555555555555556,
              "#d8576b"
             ],
             [
              0.6666666666666666,
              "#ed7953"
             ],
             [
              0.7777777777777778,
              "#fb9f3a"
             ],
             [
              0.8888888888888888,
              "#fdca26"
             ],
             [
              1,
              "#f0f921"
             ]
            ],
            "type": "heatmap"
           }
          ],
          "heatmapgl": [
           {
            "colorbar": {
             "outlinewidth": 0,
             "ticks": ""
            },
            "colorscale": [
             [
              0,
              "#0d0887"
             ],
             [
              0.1111111111111111,
              "#46039f"
             ],
             [
              0.2222222222222222,
              "#7201a8"
             ],
             [
              0.3333333333333333,
              "#9c179e"
             ],
             [
              0.4444444444444444,
              "#bd3786"
             ],
             [
              0.5555555555555556,
              "#d8576b"
             ],
             [
              0.6666666666666666,
              "#ed7953"
             ],
             [
              0.7777777777777778,
              "#fb9f3a"
             ],
             [
              0.8888888888888888,
              "#fdca26"
             ],
             [
              1,
              "#f0f921"
             ]
            ],
            "type": "heatmapgl"
           }
          ],
          "histogram": [
           {
            "marker": {
             "pattern": {
              "fillmode": "overlay",
              "size": 10,
              "solidity": 0.2
             }
            },
            "type": "histogram"
           }
          ],
          "histogram2d": [
           {
            "colorbar": {
             "outlinewidth": 0,
             "ticks": ""
            },
            "colorscale": [
             [
              0,
              "#0d0887"
             ],
             [
              0.1111111111111111,
              "#46039f"
             ],
             [
              0.2222222222222222,
              "#7201a8"
             ],
             [
              0.3333333333333333,
              "#9c179e"
             ],
             [
              0.4444444444444444,
              "#bd3786"
             ],
             [
              0.5555555555555556,
              "#d8576b"
             ],
             [
              0.6666666666666666,
              "#ed7953"
             ],
             [
              0.7777777777777778,
              "#fb9f3a"
             ],
             [
              0.8888888888888888,
              "#fdca26"
             ],
             [
              1,
              "#f0f921"
             ]
            ],
            "type": "histogram2d"
           }
          ],
          "histogram2dcontour": [
           {
            "colorbar": {
             "outlinewidth": 0,
             "ticks": ""
            },
            "colorscale": [
             [
              0,
              "#0d0887"
             ],
             [
              0.1111111111111111,
              "#46039f"
             ],
             [
              0.2222222222222222,
              "#7201a8"
             ],
             [
              0.3333333333333333,
              "#9c179e"
             ],
             [
              0.4444444444444444,
              "#bd3786"
             ],
             [
              0.5555555555555556,
              "#d8576b"
             ],
             [
              0.6666666666666666,
              "#ed7953"
             ],
             [
              0.7777777777777778,
              "#fb9f3a"
             ],
             [
              0.8888888888888888,
              "#fdca26"
             ],
             [
              1,
              "#f0f921"
             ]
            ],
            "type": "histogram2dcontour"
           }
          ],
          "mesh3d": [
           {
            "colorbar": {
             "outlinewidth": 0,
             "ticks": ""
            },
            "type": "mesh3d"
           }
          ],
          "parcoords": [
           {
            "line": {
             "colorbar": {
              "outlinewidth": 0,
              "ticks": ""
             }
            },
            "type": "parcoords"
           }
          ],
          "pie": [
           {
            "automargin": true,
            "type": "pie"
           }
          ],
          "scatter": [
           {
            "fillpattern": {
             "fillmode": "overlay",
             "size": 10,
             "solidity": 0.2
            },
            "type": "scatter"
           }
          ],
          "scatter3d": [
           {
            "line": {
             "colorbar": {
              "outlinewidth": 0,
              "ticks": ""
             }
            },
            "marker": {
             "colorbar": {
              "outlinewidth": 0,
              "ticks": ""
             }
            },
            "type": "scatter3d"
           }
          ],
          "scattercarpet": [
           {
            "marker": {
             "colorbar": {
              "outlinewidth": 0,
              "ticks": ""
             }
            },
            "type": "scattercarpet"
           }
          ],
          "scattergeo": [
           {
            "marker": {
             "colorbar": {
              "outlinewidth": 0,
              "ticks": ""
             }
            },
            "type": "scattergeo"
           }
          ],
          "scattergl": [
           {
            "marker": {
             "colorbar": {
              "outlinewidth": 0,
              "ticks": ""
             }
            },
            "type": "scattergl"
           }
          ],
          "scattermapbox": [
           {
            "marker": {
             "colorbar": {
              "outlinewidth": 0,
              "ticks": ""
             }
            },
            "type": "scattermapbox"
           }
          ],
          "scatterpolar": [
           {
            "marker": {
             "colorbar": {
              "outlinewidth": 0,
              "ticks": ""
             }
            },
            "type": "scatterpolar"
           }
          ],
          "scatterpolargl": [
           {
            "marker": {
             "colorbar": {
              "outlinewidth": 0,
              "ticks": ""
             }
            },
            "type": "scatterpolargl"
           }
          ],
          "scatterternary": [
           {
            "marker": {
             "colorbar": {
              "outlinewidth": 0,
              "ticks": ""
             }
            },
            "type": "scatterternary"
           }
          ],
          "surface": [
           {
            "colorbar": {
             "outlinewidth": 0,
             "ticks": ""
            },
            "colorscale": [
             [
              0,
              "#0d0887"
             ],
             [
              0.1111111111111111,
              "#46039f"
             ],
             [
              0.2222222222222222,
              "#7201a8"
             ],
             [
              0.3333333333333333,
              "#9c179e"
             ],
             [
              0.4444444444444444,
              "#bd3786"
             ],
             [
              0.5555555555555556,
              "#d8576b"
             ],
             [
              0.6666666666666666,
              "#ed7953"
             ],
             [
              0.7777777777777778,
              "#fb9f3a"
             ],
             [
              0.8888888888888888,
              "#fdca26"
             ],
             [
              1,
              "#f0f921"
             ]
            ],
            "type": "surface"
           }
          ],
          "table": [
           {
            "cells": {
             "fill": {
              "color": "#EBF0F8"
             },
             "line": {
              "color": "white"
             }
            },
            "header": {
             "fill": {
              "color": "#C8D4E3"
             },
             "line": {
              "color": "white"
             }
            },
            "type": "table"
           }
          ]
         },
         "layout": {
          "annotationdefaults": {
           "arrowcolor": "#2a3f5f",
           "arrowhead": 0,
           "arrowwidth": 1
          },
          "autotypenumbers": "strict",
          "coloraxis": {
           "colorbar": {
            "outlinewidth": 0,
            "ticks": ""
           }
          },
          "colorscale": {
           "diverging": [
            [
             0,
             "#8e0152"
            ],
            [
             0.1,
             "#c51b7d"
            ],
            [
             0.2,
             "#de77ae"
            ],
            [
             0.3,
             "#f1b6da"
            ],
            [
             0.4,
             "#fde0ef"
            ],
            [
             0.5,
             "#f7f7f7"
            ],
            [
             0.6,
             "#e6f5d0"
            ],
            [
             0.7,
             "#b8e186"
            ],
            [
             0.8,
             "#7fbc41"
            ],
            [
             0.9,
             "#4d9221"
            ],
            [
             1,
             "#276419"
            ]
           ],
           "sequential": [
            [
             0,
             "#0d0887"
            ],
            [
             0.1111111111111111,
             "#46039f"
            ],
            [
             0.2222222222222222,
             "#7201a8"
            ],
            [
             0.3333333333333333,
             "#9c179e"
            ],
            [
             0.4444444444444444,
             "#bd3786"
            ],
            [
             0.5555555555555556,
             "#d8576b"
            ],
            [
             0.6666666666666666,
             "#ed7953"
            ],
            [
             0.7777777777777778,
             "#fb9f3a"
            ],
            [
             0.8888888888888888,
             "#fdca26"
            ],
            [
             1,
             "#f0f921"
            ]
           ],
           "sequentialminus": [
            [
             0,
             "#0d0887"
            ],
            [
             0.1111111111111111,
             "#46039f"
            ],
            [
             0.2222222222222222,
             "#7201a8"
            ],
            [
             0.3333333333333333,
             "#9c179e"
            ],
            [
             0.4444444444444444,
             "#bd3786"
            ],
            [
             0.5555555555555556,
             "#d8576b"
            ],
            [
             0.6666666666666666,
             "#ed7953"
            ],
            [
             0.7777777777777778,
             "#fb9f3a"
            ],
            [
             0.8888888888888888,
             "#fdca26"
            ],
            [
             1,
             "#f0f921"
            ]
           ]
          },
          "colorway": [
           "#636efa",
           "#EF553B",
           "#00cc96",
           "#ab63fa",
           "#FFA15A",
           "#19d3f3",
           "#FF6692",
           "#B6E880",
           "#FF97FF",
           "#FECB52"
          ],
          "font": {
           "color": "#2a3f5f"
          },
          "geo": {
           "bgcolor": "white",
           "lakecolor": "white",
           "landcolor": "#E5ECF6",
           "showlakes": true,
           "showland": true,
           "subunitcolor": "white"
          },
          "hoverlabel": {
           "align": "left"
          },
          "hovermode": "closest",
          "mapbox": {
           "style": "light"
          },
          "paper_bgcolor": "white",
          "plot_bgcolor": "#E5ECF6",
          "polar": {
           "angularaxis": {
            "gridcolor": "white",
            "linecolor": "white",
            "ticks": ""
           },
           "bgcolor": "#E5ECF6",
           "radialaxis": {
            "gridcolor": "white",
            "linecolor": "white",
            "ticks": ""
           }
          },
          "scene": {
           "xaxis": {
            "backgroundcolor": "#E5ECF6",
            "gridcolor": "white",
            "gridwidth": 2,
            "linecolor": "white",
            "showbackground": true,
            "ticks": "",
            "zerolinecolor": "white"
           },
           "yaxis": {
            "backgroundcolor": "#E5ECF6",
            "gridcolor": "white",
            "gridwidth": 2,
            "linecolor": "white",
            "showbackground": true,
            "ticks": "",
            "zerolinecolor": "white"
           },
           "zaxis": {
            "backgroundcolor": "#E5ECF6",
            "gridcolor": "white",
            "gridwidth": 2,
            "linecolor": "white",
            "showbackground": true,
            "ticks": "",
            "zerolinecolor": "white"
           }
          },
          "shapedefaults": {
           "line": {
            "color": "#2a3f5f"
           }
          },
          "ternary": {
           "aaxis": {
            "gridcolor": "white",
            "linecolor": "white",
            "ticks": ""
           },
           "baxis": {
            "gridcolor": "white",
            "linecolor": "white",
            "ticks": ""
           },
           "bgcolor": "#E5ECF6",
           "caxis": {
            "gridcolor": "white",
            "linecolor": "white",
            "ticks": ""
           }
          },
          "title": {
           "x": 0.05
          },
          "xaxis": {
           "automargin": true,
           "gridcolor": "white",
           "linecolor": "white",
           "ticks": "",
           "title": {
            "standoff": 15
           },
           "zerolinecolor": "white",
           "zerolinewidth": 2
          },
          "yaxis": {
           "automargin": true,
           "gridcolor": "white",
           "linecolor": "white",
           "ticks": "",
           "title": {
            "standoff": 15
           },
           "zerolinecolor": "white",
           "zerolinewidth": 2
          }
         }
        },
        "xaxis": {
         "anchor": "y",
         "domain": [
          0,
          1
         ],
         "title": {
          "text": "time_diff_minute"
         }
        },
        "yaxis": {
         "anchor": "x",
         "domain": [
          0,
          1
         ],
         "title": {
          "text": "count"
         }
        }
       }
      },
      "text/html": [
       "<div>                        <script type=\"text/javascript\">window.PlotlyConfig = {MathJaxConfig: 'local'};</script>\n",
       "        <script charset=\"utf-8\" src=\"https://cdn.plot.ly/plotly-2.35.2.min.js\"></script>                <div id=\"0b051ef9-dcd9-403d-9981-791156d3c025\" class=\"plotly-graph-div\" style=\"height:100%; width:100%;\"></div>            <script type=\"text/javascript\">                                    window.PLOTLYENV=window.PLOTLYENV || {};                                    if (document.getElementById(\"0b051ef9-dcd9-403d-9981-791156d3c025\")) {                    Plotly.newPlot(                        \"0b051ef9-dcd9-403d-9981-791156d3c025\",                        [{\"alignmentgroup\":\"True\",\"bingroup\":\"x\",\"hovertemplate\":\"time_diff_minute=%{x}\\u003cbr\\u003ecount=%{y}\\u003cextra\\u003e\\u003c\\u002fextra\\u003e\",\"legendgroup\":\"\",\"marker\":{\"color\":\"#636efa\",\"pattern\":{\"shape\":\"\"}},\"name\":\"\",\"nbinsx\":1000,\"offsetgroup\":\"\",\"orientation\":\"v\",\"showlegend\":false,\"x\":[34.1,399.56666666666666,398.53333333333336,242.53333333333333,6.316666666666666,2.1,26.5,157.41666666666666,164.56666666666666,258.5,205.51666666666668,22.316666666666666,68.38333333333334,107.01666666666667,149.25,142.45,0.5,2.5,16.85,17.366666666666667,19.033333333333335,26.183333333333334,15.65,49.766666666666666,27.183333333333334,6.766666666666667,0.2833333333333333,2.1666666666666665,15.65,6.483333333333333,8.083333333333334,15.616666666666667,72.0,3.45,11.5,6.316666666666666,15.416666666666666,25.35,66.61666666666666,14.666666666666666,68.31666666666666,202.06666666666666,0.15,129.98333333333332,128.91666666666666,102.95,3941.9,1080.7333333333333,928.6833333333333,56.15,42.93333333333333,406.96666666666664,590.9666666666667,1137.2,166.2,232.08333333333334,521.6166666666667,512.4833333333333,334.51666666666665,336.5,187.53333333333333,60.61666666666667,65.65,432.51666666666665,559.8833333333333,525.9333333333333,500.4,428.78333333333336,107.36666666666666,250.23333333333332,1042.0666666666666,571.0666666666667,12.466666666666667,14.083333333333334,12.7,60.88333333333333,71.35,3.683333333333333,166.96666666666667,1904.4333333333334,1158.9166666666667,264.8,183.13333333333333,124.05,156.26666666666668,121.05,11.633333333333333,175.96666666666667,166.96666666666667,289.48333333333335,3678.6,150.01666666666668,195.61666666666667,355.43333333333334,130.71666666666667,473.93333333333334,625.2,3817.25,287.8333333333333,0.23333333333333334,8.45,0.18333333333333332,1310.4666666666667,24.833333333333332,152.98333333333332,0.25,0.3,519.45,0.5,0.11666666666666667,211.36666666666667,175.16666666666666,179.86666666666667,3.433333333333333,1345.0333333333333,1085.6333333333334,217.36666666666667,461.6333333333333,215.01666666666668,451.31666666666666,211.83333333333334,709.25,342.76666666666665,48.06666666666667,1255.5666666666666,22.8,3530.0666666666666,127.26666666666667,70.45,3726.383333333333,3893.883333333333,206.5,77.06666666666666,76.91666666666667,62.93333333333333,316.1666666666667,381.78333333333336,381.5833333333333,70.38333333333334,70.23333333333333,13.183333333333334,946.7833333333333,945.4833333333333,945.3666666666667,1375.65,186.81666666666666,125.35,1421.05,1509.95,573.9,2046.7833333333333,2894.0833333333335,2984.1666666666665,2133.95,113.13333333333334,3488.7833333333333,538.85,484.68333333333334,640.8,84.36666666666666,122.2,7.8,697.8333333333334,751.0666666666667,315.75,299.9166666666667,85.93333333333334,108.23333333333333,57.766666666666666,1283.4666666666667,1303.7,12.75,14.216666666666667,1111.2,4086.0833333333335,26.7,282.48333333333335,357.1166666666667,1217.4,65.15,1358.0,371.1,175.83333333333334,118.95,64.93333333333334,4412.016666666666,653.35,7.916666666666667,242.93333333333334,1117.3333333333333,1388.6666666666667,956.7166666666667,1223.9833333333333,1169.1166666666666,1294.2166666666667,1202.7833333333333,1318.7666666666667,464.7,525.45,305.23333333333335,60.9,18.133333333333333,224.16666666666666,21.133333333333333,21.833333333333332,48.35,50.96666666666667,151.35,132.75,123.86666666666666,96.9,119.0,72.93333333333334,135.95,128.83333333333334,0.2,0.38333333333333336,12.416666666666666,12.4,8.983333333333333,22.066666666666666,2248.266666666667,480.55,36.45,499.3,499.03333333333336,724.6833333333333,682.65,383.78333333333336,332.25,149.95,23.0,21.916666666666668,213.01666666666668,48.916666666666664,225.31666666666666,201.5,23.833333333333332,21.15,740.2666666666667,822.4833333333333,293.6333333333333,227.86666666666667,265.76666666666665,288.15,472.46666666666664,10.833333333333334,1022.6833333333333,37.0,419.21666666666664,1331.55,53.233333333333334,598.6,366.15,315.5833333333333,125.43333333333334,403.1,3250.9333333333334,468.9,127.58333333333333,105.23333333333333,1086.5333333333333,1160.2166666666667,1095.25,982.95,574.7,598.5666666666667,153.58333333333334,28.183333333333334,196.85,184.7,209.08333333333334,185.31666666666666,453.4,55.55,199.51666666666668,45.416666666666664,145.86666666666667,620.25,552.25,522.0333333333333,229.85,945.75,366.85,1136.9,460.31666666666666,2.4166666666666665,147.68333333333334,139.48333333333332,65.58333333333333,1766.6666666666667,3.816666666666667,241.08333333333334,313.4,55.083333333333336,1054.6,4027.4666666666667,1260.9,133.71666666666667,2996.9166666666665,1363.1833333333334,1362.95,1764.7666666666667,4127.633333333333,1351.7,16.816666666666666,78.03333333333333,76.31666666666666,33.15,34.45,3251.5833333333335,3272.8333333333335,3267.3166666666666,2665.0,1131.3166666666666,88.51666666666667,39.93333333333333,259.21666666666664,245.45,243.33333333333334,91.98333333333333,106.2,9.033333333333333,34.05,114.13333333333334,115.51666666666667,109.03333333333333,31.366666666666667,338.21666666666664,141.4,183.2,178.83333333333334,3.183333333333333,76.28333333333333,12678.75,190.95,76.58333333333333,953.35,51.88333333333333,65.11666666666666,271.85,8.633333333333333,126.25,160.35,12.316666666666666,945.3833333333333,608.2666666666667,881.7833333333333,265.9,324.03333333333336,8.9,1038.2166666666667,8.583333333333334,64.4,43.38333333333333,120.55,32.55,11.966666666666667,326.98333333333335,219.18333333333334,21.866666666666667,21.383333333333333,35.416666666666664,53.15,133.83333333333334,154.85,930.1166666666667,1038.8833333333334,1038.95,961.1166666666667,955.1666666666666,181.15,179.35,126.91666666666667,120.81666666666666,26.383333333333333,9.6,40.2,10.016666666666667,92.28333333333333,210.55,224.5,1129.25,401.96666666666664,373.5833333333333,694.0,5884.216666666666,223.35,215.01666666666668,6030.766666666666,3.6333333333333333,85.6,80.61666666666666,240.73333333333332,506.56666666666666,0.85,1035.4166666666667,91.0,0.18333333333333332,142.6,148.41666666666666,1315.6666666666667,287.9,1202.7666666666667,197.36666666666667,146.3,50.31666666666667,26.916666666666668,55.166666666666664,51.56666666666667,46.86666666666667,16.5,24.983333333333334,13.05,26.2,18.433333333333334,44.56666666666667,95.68333333333334,131.46666666666667,133.03333333333333,54.81666666666667,73.15,583.55,448.3333333333333,684.0666666666667,196.91666666666666,43.983333333333334,683.2166666666667,1390.1833333333334,58.083333333333336,36.583333333333336,35.983333333333334,35.416666666666664,0.8333333333333334,174.3,174.16666666666666,950.6166666666667,232.13333333333333,188.85,228.21666666666667,1.65,89.5,127.73333333333333,249.31666666666666,247.36666666666667,289.81666666666666,19.75,38.416666666666664,40.25,1450.6,1844.6,346.1666666666667,1471.4666666666667,82.68333333333334,24.733333333333334,31.983333333333334,5231.616666666667,442.71666666666664,432.0,301.31666666666666,291.23333333333335,62.45,78.21666666666667,112.83333333333333,554.8166666666667,216.56666666666666,445.53333333333336,202.08333333333334,399.4,294.0,88.43333333333334,82.96666666666667,23.2,28.65,422.8833333333333,454.6666666666667,92.15,729.8,92.56666666666666,1401.25,1291.7833333333333,108.66666666666667,249.91666666666666,153.61666666666667,69.45,4.083333333333333,867.9666666666667,851.9333333333333,254.33333333333334,4.233333333333333,7.316666666666666,4.816666666666666,10.366666666666667,14.783333333333333,178.96666666666667,185.4,182.26666666666668,178.45,148.76666666666668,179.36666666666667,681.7333333333333,667.8166666666667,30.5,668.25,46.85,45.93333333333333,41.56666666666667,668.45,129.23333333333332,528.6833333333333,516.1833333333333,450.5833333333333,433.26666666666665,253.96666666666667,10.6,16.983333333333334,16.033333333333335,31.033333333333335,6.666666666666667,22.3,7.05,2403.633333333333,289.25,7.516666666666667,13.283333333333333,12.833333333333334,67.35,19.9,87.95,62.333333333333336,248.73333333333332,252.73333333333332,302.6333333333333,18.666666666666668,545.7166666666667,906.9,823.6166666666667,58.8,972.3166666666667,3744.4166666666665,3743.9166666666665,52.93333333333333,4.916666666666667,5.083333333333333,10.633333333333333,146.58333333333334,7.266666666666667,156.0,48.6,43.93333333333333,260.6,273.55,1084.6833333333334,70.75,267.1333333333333,270.53333333333336,110.16666666666667,13.966666666666667,13.983333333333333,4.616666666666666,95.28333333333333,3.05,40.21666666666667,718.25,31.7,78.63333333333334,334.9166666666667,262.18333333333334,948.15,385.4,320.6,140.91666666666666,26.683333333333334,25.883333333333333,238.21666666666667,235.05,220.46666666666667,240.3,9.383333333333333,110.31666666666666,595.6,1023.8333333333334,1045.2,360.3833333333333,1003.35,479.4166666666667,164.31666666666666,481.18333333333334,479.9,1024.2833333333333,492.3333333333333,480.21666666666664,486.85,0.38333333333333336,20.5,23.916666666666668,29.433333333333334,265.5,1319.0833333333333,1144.0833333333333,68.2,490.45,490.15,36.86666666666667,51.36666666666667,57.61666666666667,21.416666666666668,1124.6,138.18333333333334,1133.9166666666667,121.73333333333333,122.56666666666666,18.916666666666668,303.5833333333333,1302.1333333333334,1302.15,412.31666666666666,4133.05,4131.65,4531.166666666667,4068.0833333333335,4308.85,53.9,11.183333333333334,39.06666666666667,38.166666666666664,380.3833333333333,19.566666666666666,12.25,26.033333333333335,31.333333333333332,59.0,416.3833333333333,44.65,763.1666666666666,95.9,43.13333333333333,269.46666666666664,238.68333333333334,96.88333333333334,40.53333333333333,23.916666666666668,193.76666666666668,206.7,259.18333333333334,350.8833333333333,29.6,420.9166666666667,624.8666666666667,112.75,71.0,429.8333333333333,13.666666666666666,665.5833333333334,458.1666666666667,459.01666666666665,6.216666666666667,16.1,15.516666666666667,15.133333333333333,12.733333333333333,26.766666666666666,58.266666666666666,35.333333333333336,23.883333333333333,61.71666666666667,15.883333333333333,7.266666666666667,26.333333333333332,191.43333333333334,282.06666666666666,76.16666666666667,1251.0333333333333,255.61666666666667,18.033333333333335,11.566666666666666,12.8,12.416666666666666,16.85,4.5,2.7666666666666666,267.31666666666666,261.78333333333336,8.85,271.21666666666664,9.65,963.2166666666667,1108.5833333333333,279.48333333333335,46.85,33.93333333333333,709.65,680.7333333333333,690.5666666666667,3136.616666666667,3139.8,26.383333333333333,24.333333333333332,82.91666666666667,534.9166666666666,542.75,602.6666666666666,112.61666666666666,1.35,31.366666666666667,474.05,33.15,18.233333333333334,385.31666666666666,369.76666666666665,357.8333333333333,6.15,202.43333333333334,231.26666666666668,197.45,123.2,29.316666666666666,51.68333333333333,420.21666666666664,39.7,398.53333333333336,36.483333333333334,39.75,38.11666666666667,71.68333333333334,15.05,57.6,46.0,53.6,9.35,29.783333333333335,34.06666666666667,296.5,1257.4833333333333,1230.9833333333333,919.7166666666667,884.6333333333333,420.35,363.55,622.55,502.6333333333333,612.1333333333333,601.6166666666667,818.2166666666667,818.3833333333333,49.18333333333333,193.4,205.88333333333333,202.23333333333332,83.53333333333333,6.783333333333333,175.75,1489.5833333333333,103.4,1163.5166666666667,108.26666666666667,216.4,218.15,214.93333333333334,3903.7833333333333,3868.983333333333,3662.6666666666665,55.166666666666664,27.433333333333334,4238.483333333334,1652.7166666666667,1653.0333333333333,280.31666666666666,403.31666666666666,196.26666666666668,404.5833333333333,330.68333333333334,65.58333333333333,30.75,246.8,330.15,1109.0333333333333,615.8666666666667,1115.3833333333334,617.4833333333333,53.36666666666667,37.016666666666666,33.016666666666666,25.383333333333333,111.63333333333334,292.5833333333333,149.08333333333334,1.5333333333333334,656.1333333333333,734.9333333333333,803.9666666666667,23.033333333333335,44.21666666666667,31.8,27.116666666666667,21.566666666666666,51.71666666666667,17.533333333333335,89.6,134.11666666666667,1156.8666666666666,1298.1666666666667,51.86666666666667,54.56666666666667,838.3,303.73333333333335,466.3333333333333,272.65,3922.9166666666665,4400.7,5622.1,708.2833333333333,1519.6166666666666,1394.45,1138.5333333333333,888.9333333333333,271.3666666666667,260.0,29.4,944.7166666666667,81.86666666666666,87.21666666666667,22.883333333333333,1056.5166666666667,1141.0333333333333,242.38333333333333,4512.116666666667,4396.583333333333,151.45,1094.4333333333334,2561.95,2162.9,3754.2166666666667,833.1166666666667,1873.4333333333334,333.81666666666666,26.766666666666666,750.5,80.45,140.68333333333334,645.7,383.71666666666664,4.9,205.5,106.33333333333333,45.86666666666667,63.5,57.21666666666667,86.26666666666667,1405.4666666666667,12.5,446.0,112.41666666666667,174.06666666666666,1389.85,1318.6,55.833333333333336,579.1166666666667,578.8666666666667,145.95,3.25,281.53333333333336,61.983333333333334,50.4,25.533333333333335,90.73333333333333,165.43333333333334,34.266666666666666,15.016666666666667,44.75,54.6,10.866666666666667,266.3833333333333,750.5333333333333,709.45,233.95,93.06666666666666,67.88333333333334,62.65,1429.15,294.8333333333333,294.26666666666665,232.56666666666666,293.78333333333336,238.35,1795.1333333333334,11.216666666666667,3105.1666666666665,3071.633333333333,3066.85,3054.45,3070.9666666666667,207.31666666666666,143.35,143.1,88.01666666666667,21.533333333333335,33.21666666666667,1068.2666666666667,1343.3,1342.8833333333334,1312.4666666666667,430.1166666666667,150.26666666666668,956.85,1204.9,935.65,1059.8666666666666,570.2166666666667,490.43333333333334,1169.0166666666667,1396.7333333333333,1089.25,176.55,35.983333333333334,680.1166666666667,679.35,218.63333333333333,84.11666666666666,188.45,187.63333333333333,389.43333333333334,86.9,86.73333333333333,209.85,3792.6,57.38333333333333,35.38333333333333,565.0,761.6166666666667,1071.3,1070.8,2712.633333333333,584.6666666666666,152.55,4.666666666666667,4.166666666666667,911.3666666666667,5679.766666666666,2073.4333333333334,821.8333333333334,1309.85,659.5,89.08333333333333,109.73333333333333,702.4166666666666,62.5,61.6,353.56666666666666,795.6166666666667,782.25,111.58333333333333,410.3666666666667,75.91666666666667,775.9833333333333,647.15,394.3333333333333,537.05,1332.6833333333334,1315.3,924.8,209.56666666666666,184.78333333333333,69.2,404.21666666666664,253.2,723.4,55.8,1221.05,524.1166666666667,1088.0166666666667,213.18333333333334,7.116666666666666,73.0,1054.5666666666666,32.75,184.16666666666666,357.78333333333336,409.18333333333334,105.06666666666666,427.28333333333336,2711.0666666666666,2031.95,794.9,541.65,46.85,207.55,200.98333333333332,165.01666666666668,342.93333333333334,251.06666666666666,3.1333333333333333,448.21666666666664,96.56666666666666,48.05,682.3333333333334,138.23333333333332,105.45,1216.3833333333334,3130.7833333333333,647.0166666666667,63.03333333333333,3.0166666666666666,409.2],\"xaxis\":\"x\",\"yaxis\":\"y\",\"type\":\"histogram\"}],                        {\"template\":{\"data\":{\"histogram2dcontour\":[{\"type\":\"histogram2dcontour\",\"colorbar\":{\"outlinewidth\":0,\"ticks\":\"\"},\"colorscale\":[[0.0,\"#0d0887\"],[0.1111111111111111,\"#46039f\"],[0.2222222222222222,\"#7201a8\"],[0.3333333333333333,\"#9c179e\"],[0.4444444444444444,\"#bd3786\"],[0.5555555555555556,\"#d8576b\"],[0.6666666666666666,\"#ed7953\"],[0.7777777777777778,\"#fb9f3a\"],[0.8888888888888888,\"#fdca26\"],[1.0,\"#f0f921\"]]}],\"choropleth\":[{\"type\":\"choropleth\",\"colorbar\":{\"outlinewidth\":0,\"ticks\":\"\"}}],\"histogram2d\":[{\"type\":\"histogram2d\",\"colorbar\":{\"outlinewidth\":0,\"ticks\":\"\"},\"colorscale\":[[0.0,\"#0d0887\"],[0.1111111111111111,\"#46039f\"],[0.2222222222222222,\"#7201a8\"],[0.3333333333333333,\"#9c179e\"],[0.4444444444444444,\"#bd3786\"],[0.5555555555555556,\"#d8576b\"],[0.6666666666666666,\"#ed7953\"],[0.7777777777777778,\"#fb9f3a\"],[0.8888888888888888,\"#fdca26\"],[1.0,\"#f0f921\"]]}],\"heatmap\":[{\"type\":\"heatmap\",\"colorbar\":{\"outlinewidth\":0,\"ticks\":\"\"},\"colorscale\":[[0.0,\"#0d0887\"],[0.1111111111111111,\"#46039f\"],[0.2222222222222222,\"#7201a8\"],[0.3333333333333333,\"#9c179e\"],[0.4444444444444444,\"#bd3786\"],[0.5555555555555556,\"#d8576b\"],[0.6666666666666666,\"#ed7953\"],[0.7777777777777778,\"#fb9f3a\"],[0.8888888888888888,\"#fdca26\"],[1.0,\"#f0f921\"]]}],\"heatmapgl\":[{\"type\":\"heatmapgl\",\"colorbar\":{\"outlinewidth\":0,\"ticks\":\"\"},\"colorscale\":[[0.0,\"#0d0887\"],[0.1111111111111111,\"#46039f\"],[0.2222222222222222,\"#7201a8\"],[0.3333333333333333,\"#9c179e\"],[0.4444444444444444,\"#bd3786\"],[0.5555555555555556,\"#d8576b\"],[0.6666666666666666,\"#ed7953\"],[0.7777777777777778,\"#fb9f3a\"],[0.8888888888888888,\"#fdca26\"],[1.0,\"#f0f921\"]]}],\"contourcarpet\":[{\"type\":\"contourcarpet\",\"colorbar\":{\"outlinewidth\":0,\"ticks\":\"\"}}],\"contour\":[{\"type\":\"contour\",\"colorbar\":{\"outlinewidth\":0,\"ticks\":\"\"},\"colorscale\":[[0.0,\"#0d0887\"],[0.1111111111111111,\"#46039f\"],[0.2222222222222222,\"#7201a8\"],[0.3333333333333333,\"#9c179e\"],[0.4444444444444444,\"#bd3786\"],[0.5555555555555556,\"#d8576b\"],[0.6666666666666666,\"#ed7953\"],[0.7777777777777778,\"#fb9f3a\"],[0.8888888888888888,\"#fdca26\"],[1.0,\"#f0f921\"]]}],\"surface\":[{\"type\":\"surface\",\"colorbar\":{\"outlinewidth\":0,\"ticks\":\"\"},\"colorscale\":[[0.0,\"#0d0887\"],[0.1111111111111111,\"#46039f\"],[0.2222222222222222,\"#7201a8\"],[0.3333333333333333,\"#9c179e\"],[0.4444444444444444,\"#bd3786\"],[0.5555555555555556,\"#d8576b\"],[0.6666666666666666,\"#ed7953\"],[0.7777777777777778,\"#fb9f3a\"],[0.8888888888888888,\"#fdca26\"],[1.0,\"#f0f921\"]]}],\"mesh3d\":[{\"type\":\"mesh3d\",\"colorbar\":{\"outlinewidth\":0,\"ticks\":\"\"}}],\"scatter\":[{\"fillpattern\":{\"fillmode\":\"overlay\",\"size\":10,\"solidity\":0.2},\"type\":\"scatter\"}],\"parcoords\":[{\"type\":\"parcoords\",\"line\":{\"colorbar\":{\"outlinewidth\":0,\"ticks\":\"\"}}}],\"scatterpolargl\":[{\"type\":\"scatterpolargl\",\"marker\":{\"colorbar\":{\"outlinewidth\":0,\"ticks\":\"\"}}}],\"bar\":[{\"error_x\":{\"color\":\"#2a3f5f\"},\"error_y\":{\"color\":\"#2a3f5f\"},\"marker\":{\"line\":{\"color\":\"#E5ECF6\",\"width\":0.5},\"pattern\":{\"fillmode\":\"overlay\",\"size\":10,\"solidity\":0.2}},\"type\":\"bar\"}],\"scattergeo\":[{\"type\":\"scattergeo\",\"marker\":{\"colorbar\":{\"outlinewidth\":0,\"ticks\":\"\"}}}],\"scatterpolar\":[{\"type\":\"scatterpolar\",\"marker\":{\"colorbar\":{\"outlinewidth\":0,\"ticks\":\"\"}}}],\"histogram\":[{\"marker\":{\"pattern\":{\"fillmode\":\"overlay\",\"size\":10,\"solidity\":0.2}},\"type\":\"histogram\"}],\"scattergl\":[{\"type\":\"scattergl\",\"marker\":{\"colorbar\":{\"outlinewidth\":0,\"ticks\":\"\"}}}],\"scatter3d\":[{\"type\":\"scatter3d\",\"line\":{\"colorbar\":{\"outlinewidth\":0,\"ticks\":\"\"}},\"marker\":{\"colorbar\":{\"outlinewidth\":0,\"ticks\":\"\"}}}],\"scattermapbox\":[{\"type\":\"scattermapbox\",\"marker\":{\"colorbar\":{\"outlinewidth\":0,\"ticks\":\"\"}}}],\"scatterternary\":[{\"type\":\"scatterternary\",\"marker\":{\"colorbar\":{\"outlinewidth\":0,\"ticks\":\"\"}}}],\"scattercarpet\":[{\"type\":\"scattercarpet\",\"marker\":{\"colorbar\":{\"outlinewidth\":0,\"ticks\":\"\"}}}],\"carpet\":[{\"aaxis\":{\"endlinecolor\":\"#2a3f5f\",\"gridcolor\":\"white\",\"linecolor\":\"white\",\"minorgridcolor\":\"white\",\"startlinecolor\":\"#2a3f5f\"},\"baxis\":{\"endlinecolor\":\"#2a3f5f\",\"gridcolor\":\"white\",\"linecolor\":\"white\",\"minorgridcolor\":\"white\",\"startlinecolor\":\"#2a3f5f\"},\"type\":\"carpet\"}],\"table\":[{\"cells\":{\"fill\":{\"color\":\"#EBF0F8\"},\"line\":{\"color\":\"white\"}},\"header\":{\"fill\":{\"color\":\"#C8D4E3\"},\"line\":{\"color\":\"white\"}},\"type\":\"table\"}],\"barpolar\":[{\"marker\":{\"line\":{\"color\":\"#E5ECF6\",\"width\":0.5},\"pattern\":{\"fillmode\":\"overlay\",\"size\":10,\"solidity\":0.2}},\"type\":\"barpolar\"}],\"pie\":[{\"automargin\":true,\"type\":\"pie\"}]},\"layout\":{\"autotypenumbers\":\"strict\",\"colorway\":[\"#636efa\",\"#EF553B\",\"#00cc96\",\"#ab63fa\",\"#FFA15A\",\"#19d3f3\",\"#FF6692\",\"#B6E880\",\"#FF97FF\",\"#FECB52\"],\"font\":{\"color\":\"#2a3f5f\"},\"hovermode\":\"closest\",\"hoverlabel\":{\"align\":\"left\"},\"paper_bgcolor\":\"white\",\"plot_bgcolor\":\"#E5ECF6\",\"polar\":{\"bgcolor\":\"#E5ECF6\",\"angularaxis\":{\"gridcolor\":\"white\",\"linecolor\":\"white\",\"ticks\":\"\"},\"radialaxis\":{\"gridcolor\":\"white\",\"linecolor\":\"white\",\"ticks\":\"\"}},\"ternary\":{\"bgcolor\":\"#E5ECF6\",\"aaxis\":{\"gridcolor\":\"white\",\"linecolor\":\"white\",\"ticks\":\"\"},\"baxis\":{\"gridcolor\":\"white\",\"linecolor\":\"white\",\"ticks\":\"\"},\"caxis\":{\"gridcolor\":\"white\",\"linecolor\":\"white\",\"ticks\":\"\"}},\"coloraxis\":{\"colorbar\":{\"outlinewidth\":0,\"ticks\":\"\"}},\"colorscale\":{\"sequential\":[[0.0,\"#0d0887\"],[0.1111111111111111,\"#46039f\"],[0.2222222222222222,\"#7201a8\"],[0.3333333333333333,\"#9c179e\"],[0.4444444444444444,\"#bd3786\"],[0.5555555555555556,\"#d8576b\"],[0.6666666666666666,\"#ed7953\"],[0.7777777777777778,\"#fb9f3a\"],[0.8888888888888888,\"#fdca26\"],[1.0,\"#f0f921\"]],\"sequentialminus\":[[0.0,\"#0d0887\"],[0.1111111111111111,\"#46039f\"],[0.2222222222222222,\"#7201a8\"],[0.3333333333333333,\"#9c179e\"],[0.4444444444444444,\"#bd3786\"],[0.5555555555555556,\"#d8576b\"],[0.6666666666666666,\"#ed7953\"],[0.7777777777777778,\"#fb9f3a\"],[0.8888888888888888,\"#fdca26\"],[1.0,\"#f0f921\"]],\"diverging\":[[0,\"#8e0152\"],[0.1,\"#c51b7d\"],[0.2,\"#de77ae\"],[0.3,\"#f1b6da\"],[0.4,\"#fde0ef\"],[0.5,\"#f7f7f7\"],[0.6,\"#e6f5d0\"],[0.7,\"#b8e186\"],[0.8,\"#7fbc41\"],[0.9,\"#4d9221\"],[1,\"#276419\"]]},\"xaxis\":{\"gridcolor\":\"white\",\"linecolor\":\"white\",\"ticks\":\"\",\"title\":{\"standoff\":15},\"zerolinecolor\":\"white\",\"automargin\":true,\"zerolinewidth\":2},\"yaxis\":{\"gridcolor\":\"white\",\"linecolor\":\"white\",\"ticks\":\"\",\"title\":{\"standoff\":15},\"zerolinecolor\":\"white\",\"automargin\":true,\"zerolinewidth\":2},\"scene\":{\"xaxis\":{\"backgroundcolor\":\"#E5ECF6\",\"gridcolor\":\"white\",\"linecolor\":\"white\",\"showbackground\":true,\"ticks\":\"\",\"zerolinecolor\":\"white\",\"gridwidth\":2},\"yaxis\":{\"backgroundcolor\":\"#E5ECF6\",\"gridcolor\":\"white\",\"linecolor\":\"white\",\"showbackground\":true,\"ticks\":\"\",\"zerolinecolor\":\"white\",\"gridwidth\":2},\"zaxis\":{\"backgroundcolor\":\"#E5ECF6\",\"gridcolor\":\"white\",\"linecolor\":\"white\",\"showbackground\":true,\"ticks\":\"\",\"zerolinecolor\":\"white\",\"gridwidth\":2}},\"shapedefaults\":{\"line\":{\"color\":\"#2a3f5f\"}},\"annotationdefaults\":{\"arrowcolor\":\"#2a3f5f\",\"arrowhead\":0,\"arrowwidth\":1},\"geo\":{\"bgcolor\":\"white\",\"landcolor\":\"#E5ECF6\",\"subunitcolor\":\"white\",\"showland\":true,\"showlakes\":true,\"lakecolor\":\"white\"},\"title\":{\"x\":0.05},\"mapbox\":{\"style\":\"light\"}}},\"xaxis\":{\"anchor\":\"y\",\"domain\":[0.0,1.0],\"title\":{\"text\":\"time_diff_minute\"}},\"yaxis\":{\"anchor\":\"x\",\"domain\":[0.0,1.0],\"title\":{\"text\":\"count\"}},\"legend\":{\"tracegroupgap\":0},\"margin\":{\"t\":60},\"barmode\":\"relative\"},                        {\"responsive\": true}                    )                };                            </script>        </div>"
      ],
      "text/plain": [
       "Figure({\n",
       "    'data': [{'alignmentgroup': 'True',\n",
       "              'bingroup': 'x',\n",
       "              'hovertemplate': 'time_diff_minute=%{x}<br>count=%{y}<extra></extra>',\n",
       "              'legendgroup': '',\n",
       "              'marker': {'color': '#636efa', 'pattern': {'shape': ''}},\n",
       "              'name': '',\n",
       "              'nbinsx': 1000,\n",
       "              'offsetgroup': '',\n",
       "              'orientation': 'v',\n",
       "              'showlegend': False,\n",
       "              'type': 'histogram',\n",
       "              'x': array([ 34.1       , 399.56666667, 398.53333333, ...,  63.03333333,\n",
       "                            3.01666667, 409.2       ]),\n",
       "              'xaxis': 'x',\n",
       "              'yaxis': 'y'}],\n",
       "    'layout': {'barmode': 'relative',\n",
       "               'legend': {'tracegroupgap': 0},\n",
       "               'margin': {'t': 60},\n",
       "               'template': '...',\n",
       "               'xaxis': {'anchor': 'y', 'domain': [0.0, 1.0], 'title': {'text': 'time_diff_minute'}},\n",
       "               'yaxis': {'anchor': 'x', 'domain': [0.0, 1.0], 'title': {'text': 'count'}}}\n",
       "})"
      ]
     },
     "execution_count": 124,
     "metadata": {},
     "output_type": "execute_result"
    }
   ],
   "source": [
    "px.histogram(dff , x='time_diff_minute' , nbins=1000)\n"
   ]
  },
  {
   "cell_type": "code",
   "execution_count": 117,
   "metadata": {},
   "outputs": [
    {
     "data": {
      "text/plain": [
       "<Axes: xlabel='Symbol,Type'>"
      ]
     },
     "execution_count": 117,
     "metadata": {},
     "output_type": "execute_result"
    },
    {
     "data": {
      "image/png": "[encoded data removed]",
      "text/plain": [
       "<Figure size 1000x1000 with 1 Axes>"
      ]
     },
     "metadata": {},
     "output_type": "display_data"
    }
   ],
   "source": [
    "dff.pivot_table(index=['Symbol' , 'Type']  ,  values=['Volume' , 'percent_profit'  ] , aggfunc=['sum' ]).sort_values(by=('sum', 'percent_profit') , ascending=False).plot(kind='bar' , figsize=(10,10))\n"
   ]
  },
  {
   "cell_type": "code",
   "execution_count": 93,
   "metadata": {},
   "outputs": [
    {
     "data": {
      "text/html": [
       "<div>\n",
       "<style scoped>\n",
       "    .dataframe tbody tr th:only-of-type {\n",
       "        vertical-align: middle;\n",
       "    }\n",
       "\n",
       "    .dataframe tbody tr th {\n",
       "        vertical-align: top;\n",
       "    }\n",
       "\n",
       "    .dataframe thead th {\n",
       "        text-align: right;\n",
       "    }\n",
       "</style>\n",
       "<table border=\"1\" class=\"dataframe\">\n",
       "  <thead>\n",
       "    <tr style=\"text-align: right;\">\n",
       "      <th></th>\n",
       "      <th>Time</th>\n",
       "      <th>Type</th>\n",
       "      <th>Volume</th>\n",
       "      <th>Symbol</th>\n",
       "      <th>Price</th>\n",
       "      <th>Time.1</th>\n",
       "      <th>Price.1</th>\n",
       "      <th>Commission</th>\n",
       "      <th>Profit</th>\n",
       "      <th>balance</th>\n",
       "      <th>net_profit</th>\n",
       "      <th>time_diff_minute</th>\n",
       "      <th>Symbol_percent_trader</th>\n",
       "      <th>pip_diff</th>\n",
       "      <th>v/b</th>\n",
       "      <th>percent_profit</th>\n",
       "    </tr>\n",
       "  </thead>\n",
       "  <tbody>\n",
       "    <tr>\n",
       "      <th>0</th>\n",
       "      <td>2023-07-10 09:20:55</td>\n",
       "      <td>Buy</td>\n",
       "      <td>0.02</td>\n",
       "      <td>GBPUSD</td>\n",
       "      <td>1.28063</td>\n",
       "      <td>2023-07-10 09:55:01</td>\n",
       "      <td>1.28099</td>\n",
       "      <td>0.0</td>\n",
       "      <td>0.72</td>\n",
       "      <td>116.89</td>\n",
       "      <td>0.72</td>\n",
       "      <td>34.100000</td>\n",
       "      <td>7.370518</td>\n",
       "      <td>3.6</td>\n",
       "      <td>17.110104</td>\n",
       "      <td>0.615964</td>\n",
       "    </tr>\n",
       "    <tr>\n",
       "      <th>1</th>\n",
       "      <td>2023-07-10 10:15:44</td>\n",
       "      <td>Buy</td>\n",
       "      <td>0.02</td>\n",
       "      <td>AUDUSD</td>\n",
       "      <td>0.66509</td>\n",
       "      <td>2023-07-10 16:55:18</td>\n",
       "      <td>0.66545</td>\n",
       "      <td>0.0</td>\n",
       "      <td>0.72</td>\n",
       "      <td>117.61</td>\n",
       "      <td>0.72</td>\n",
       "      <td>399.566667</td>\n",
       "      <td>8.466135</td>\n",
       "      <td>3.6</td>\n",
       "      <td>17.005357</td>\n",
       "      <td>0.612193</td>\n",
       "    </tr>\n",
       "    <tr>\n",
       "      <th>2</th>\n",
       "      <td>2023-07-10 10:16:49</td>\n",
       "      <td>Buy</td>\n",
       "      <td>0.02</td>\n",
       "      <td>NZDUSD</td>\n",
       "      <td>0.61852</td>\n",
       "      <td>2023-07-10 16:55:21</td>\n",
       "      <td>0.61915</td>\n",
       "      <td>0.0</td>\n",
       "      <td>1.26</td>\n",
       "      <td>118.87</td>\n",
       "      <td>1.26</td>\n",
       "      <td>398.533333</td>\n",
       "      <td>11.354582</td>\n",
       "      <td>6.3</td>\n",
       "      <td>16.825103</td>\n",
       "      <td>1.059981</td>\n",
       "    </tr>\n",
       "    <tr>\n",
       "      <th>3</th>\n",
       "      <td>2023-07-10 12:53:57</td>\n",
       "      <td>Buy</td>\n",
       "      <td>0.01</td>\n",
       "      <td>AUDUSD</td>\n",
       "      <td>0.66362</td>\n",
       "      <td>2023-07-10 16:56:29</td>\n",
       "      <td>0.66569</td>\n",
       "      <td>0.0</td>\n",
       "      <td>2.07</td>\n",
       "      <td>120.94</td>\n",
       "      <td>2.07</td>\n",
       "      <td>242.533333</td>\n",
       "      <td>8.466135</td>\n",
       "      <td>20.7</td>\n",
       "      <td>8.268563</td>\n",
       "      <td>1.711593</td>\n",
       "    </tr>\n",
       "    <tr>\n",
       "      <th>4</th>\n",
       "      <td>2023-07-10 19:31:17</td>\n",
       "      <td>Sell</td>\n",
       "      <td>0.01</td>\n",
       "      <td>AUDCAD</td>\n",
       "      <td>0.88590</td>\n",
       "      <td>2023-07-10 19:37:36</td>\n",
       "      <td>0.88618</td>\n",
       "      <td>0.0</td>\n",
       "      <td>0.00</td>\n",
       "      <td>120.94</td>\n",
       "      <td>0.00</td>\n",
       "      <td>6.316667</td>\n",
       "      <td>0.199203</td>\n",
       "      <td>2.8</td>\n",
       "      <td>8.268563</td>\n",
       "      <td>0.000000</td>\n",
       "    </tr>\n",
       "    <tr>\n",
       "      <th>...</th>\n",
       "      <td>...</td>\n",
       "      <td>...</td>\n",
       "      <td>...</td>\n",
       "      <td>...</td>\n",
       "      <td>...</td>\n",
       "      <td>...</td>\n",
       "      <td>...</td>\n",
       "      <td>...</td>\n",
       "      <td>...</td>\n",
       "      <td>...</td>\n",
       "      <td>...</td>\n",
       "      <td>...</td>\n",
       "      <td>...</td>\n",
       "      <td>...</td>\n",
       "      <td>...</td>\n",
       "      <td>...</td>\n",
       "    </tr>\n",
       "    <tr>\n",
       "      <th>999</th>\n",
       "      <td>2024-10-18 21:00:31</td>\n",
       "      <td>Sell</td>\n",
       "      <td>0.01</td>\n",
       "      <td>USDCAD</td>\n",
       "      <td>1.38031</td>\n",
       "      <td>2024-10-21 01:11:18</td>\n",
       "      <td>1.38035</td>\n",
       "      <td>0.0</td>\n",
       "      <td>-0.03</td>\n",
       "      <td>200.53</td>\n",
       "      <td>-0.03</td>\n",
       "      <td>3130.783333</td>\n",
       "      <td>17.928287</td>\n",
       "      <td>0.4</td>\n",
       "      <td>4.986785</td>\n",
       "      <td>-0.014960</td>\n",
       "    </tr>\n",
       "    <tr>\n",
       "      <th>1000</th>\n",
       "      <td>2024-10-21 08:18:32</td>\n",
       "      <td>Sell</td>\n",
       "      <td>0.01</td>\n",
       "      <td>ETHUSD</td>\n",
       "      <td>2733.68000</td>\n",
       "      <td>2024-10-21 19:05:33</td>\n",
       "      <td>2677.50000</td>\n",
       "      <td>0.0</td>\n",
       "      <td>5.62</td>\n",
       "      <td>206.15</td>\n",
       "      <td>5.62</td>\n",
       "      <td>647.016667</td>\n",
       "      <td>12.848606</td>\n",
       "      <td>561800.0</td>\n",
       "      <td>4.850837</td>\n",
       "      <td>2.726170</td>\n",
       "    </tr>\n",
       "    <tr>\n",
       "      <th>1001</th>\n",
       "      <td>2024-10-22 15:59:27</td>\n",
       "      <td>Sell</td>\n",
       "      <td>0.01</td>\n",
       "      <td>USDCAD</td>\n",
       "      <td>1.38273</td>\n",
       "      <td>2024-10-22 17:02:29</td>\n",
       "      <td>1.38260</td>\n",
       "      <td>0.0</td>\n",
       "      <td>0.09</td>\n",
       "      <td>206.24</td>\n",
       "      <td>0.09</td>\n",
       "      <td>63.033333</td>\n",
       "      <td>17.928287</td>\n",
       "      <td>1.3</td>\n",
       "      <td>4.848720</td>\n",
       "      <td>0.043638</td>\n",
       "    </tr>\n",
       "    <tr>\n",
       "      <th>1002</th>\n",
       "      <td>2024-10-22 17:12:01</td>\n",
       "      <td>Sell</td>\n",
       "      <td>0.01</td>\n",
       "      <td>USDCAD</td>\n",
       "      <td>1.38225</td>\n",
       "      <td>2024-10-22 17:15:02</td>\n",
       "      <td>1.38280</td>\n",
       "      <td>0.0</td>\n",
       "      <td>-0.40</td>\n",
       "      <td>205.84</td>\n",
       "      <td>-0.40</td>\n",
       "      <td>3.016667</td>\n",
       "      <td>17.928287</td>\n",
       "      <td>5.5</td>\n",
       "      <td>4.858142</td>\n",
       "      <td>-0.194326</td>\n",
       "    </tr>\n",
       "    <tr>\n",
       "      <th>1003</th>\n",
       "      <td>2024-10-23 09:46:54</td>\n",
       "      <td>Sell</td>\n",
       "      <td>0.01</td>\n",
       "      <td>USDCAD</td>\n",
       "      <td>1.38234</td>\n",
       "      <td>2024-10-23 16:36:06</td>\n",
       "      <td>1.38347</td>\n",
       "      <td>0.0</td>\n",
       "      <td>-0.82</td>\n",
       "      <td>205.02</td>\n",
       "      <td>-0.82</td>\n",
       "      <td>409.200000</td>\n",
       "      <td>17.928287</td>\n",
       "      <td>11.3</td>\n",
       "      <td>4.877573</td>\n",
       "      <td>-0.399961</td>\n",
       "    </tr>\n",
       "  </tbody>\n",
       "</table>\n",
       "<p>1004 rows × 16 columns</p>\n",
       "</div>"
      ],
      "text/plain": [
       "                    Time  Type  Volume  Symbol       Price  \\\n",
       "0    2023-07-10 09:20:55   Buy    0.02  GBPUSD     1.28063   \n",
       "1    2023-07-10 10:15:44   Buy    0.02  AUDUSD     0.66509   \n",
       "2    2023-07-10 10:16:49   Buy    0.02  NZDUSD     0.61852   \n",
       "3    2023-07-10 12:53:57   Buy    0.01  AUDUSD     0.66362   \n",
       "4    2023-07-10 19:31:17  Sell    0.01  AUDCAD     0.88590   \n",
       "...                  ...   ...     ...     ...         ...   \n",
       "999  2024-10-18 21:00:31  Sell    0.01  USDCAD     1.38031   \n",
       "1000 2024-10-21 08:18:32  Sell    0.01  ETHUSD  2733.68000   \n",
       "1001 2024-10-22 15:59:27  Sell    0.01  USDCAD     1.38273   \n",
       "1002 2024-10-22 17:12:01  Sell    0.01  USDCAD     1.38225   \n",
       "1003 2024-10-23 09:46:54  Sell    0.01  USDCAD     1.38234   \n",
       "\n",
       "                  Time.1     Price.1  Commission  Profit  balance  net_profit  \\\n",
       "0    2023-07-10 09:55:01     1.28099         0.0    0.72   116.89        0.72   \n",
       "1    2023-07-10 16:55:18     0.66545         0.0    0.72   117.61        0.72   \n",
       "2    2023-07-10 16:55:21     0.61915         0.0    1.26   118.87        1.26   \n",
       "3    2023-07-10 16:56:29     0.66569         0.0    2.07   120.94        2.07   \n",
       "4    2023-07-10 19:37:36     0.88618         0.0    0.00   120.94        0.00   \n",
       "...                  ...         ...         ...     ...      ...         ...   \n",
       "999  2024-10-21 01:11:18     1.38035         0.0   -0.03   200.53       -0.03   \n",
       "1000 2024-10-21 19:05:33  2677.50000         0.0    5.62   206.15        5.62   \n",
       "1001 2024-10-22 17:02:29     1.38260         0.0    0.09   206.24        0.09   \n",
       "1002 2024-10-22 17:15:02     1.38280         0.0   -0.40   205.84       -0.40   \n",
       "1003 2024-10-23 16:36:06     1.38347         0.0   -0.82   205.02       -0.82   \n",
       "\n",
       "      time_diff_minute  Symbol_percent_trader  pip_diff        v/b  \\\n",
       "0            34.100000               7.370518       3.6  17.110104   \n",
       "1           399.566667               8.466135       3.6  17.005357   \n",
       "2           398.533333              11.354582       6.3  16.825103   \n",
       "3           242.533333               8.466135      20.7   8.268563   \n",
       "4             6.316667               0.199203       2.8   8.268563   \n",
       "...                ...                    ...       ...        ...   \n",
       "999        3130.783333              17.928287       0.4   4.986785   \n",
       "1000        647.016667              12.848606  561800.0   4.850837   \n",
       "1001         63.033333              17.928287       1.3   4.848720   \n",
       "1002          3.016667              17.928287       5.5   4.858142   \n",
       "1003        409.200000              17.928287      11.3   4.877573   \n",
       "\n",
       "      percent_profit  \n",
       "0           0.615964  \n",
       "1           0.612193  \n",
       "2           1.059981  \n",
       "3           1.711593  \n",
       "4           0.000000  \n",
       "...              ...  \n",
       "999        -0.014960  \n",
       "1000        2.726170  \n",
       "1001        0.043638  \n",
       "1002       -0.194326  \n",
       "1003       -0.399961  \n",
       "\n",
       "[1004 rows x 16 columns]"
      ]
     },
     "execution_count": 93,
     "metadata": {},
     "output_type": "execute_result"
    }
   ],
   "source": [
    "dff"
   ]
  },
  {
   "cell_type": "code",
   "execution_count": 118,
   "metadata": {},
   "outputs": [
    {
     "data": {
      "text/html": [
       "<div>\n",
       "<style scoped>\n",
       "    .dataframe tbody tr th:only-of-type {\n",
       "        vertical-align: middle;\n",
       "    }\n",
       "\n",
       "    .dataframe tbody tr th {\n",
       "        vertical-align: top;\n",
       "    }\n",
       "\n",
       "    .dataframe thead tr th {\n",
       "        text-align: left;\n",
       "    }\n",
       "\n",
       "    .dataframe thead tr:last-of-type th {\n",
       "        text-align: right;\n",
       "    }\n",
       "</style>\n",
       "<table border=\"1\" class=\"dataframe\">\n",
       "  <thead>\n",
       "    <tr>\n",
       "      <th></th>\n",
       "      <th></th>\n",
       "      <th colspan=\"3\" halign=\"left\">sum</th>\n",
       "    </tr>\n",
       "    <tr>\n",
       "      <th></th>\n",
       "      <th></th>\n",
       "      <th>Volume</th>\n",
       "      <th>percent_profit</th>\n",
       "      <th>pip_diff</th>\n",
       "    </tr>\n",
       "    <tr>\n",
       "      <th>Symbol</th>\n",
       "      <th>Type</th>\n",
       "      <th></th>\n",
       "      <th></th>\n",
       "      <th></th>\n",
       "    </tr>\n",
       "  </thead>\n",
       "  <tbody>\n",
       "    <tr>\n",
       "      <th>USDCAD</th>\n",
       "      <th>Buy</th>\n",
       "      <td>1.13</td>\n",
       "      <td>25.976554</td>\n",
       "      <td>2077.40000</td>\n",
       "    </tr>\n",
       "    <tr>\n",
       "      <th>BTCUSD</th>\n",
       "      <th>Buy</th>\n",
       "      <td>0.18</td>\n",
       "      <td>11.644823</td>\n",
       "      <td>402.53600</td>\n",
       "    </tr>\n",
       "    <tr>\n",
       "      <th>AUDUSD</th>\n",
       "      <th>Buy</th>\n",
       "      <td>0.28</td>\n",
       "      <td>11.271452</td>\n",
       "      <td>458.10000</td>\n",
       "    </tr>\n",
       "    <tr>\n",
       "      <th>EURUSD</th>\n",
       "      <th>Sell</th>\n",
       "      <td>0.37</td>\n",
       "      <td>10.896299</td>\n",
       "      <td>616.00000</td>\n",
       "    </tr>\n",
       "    <tr>\n",
       "      <th>ETHUSD</th>\n",
       "      <th>Buy</th>\n",
       "      <td>0.39</td>\n",
       "      <td>7.516931</td>\n",
       "      <td>84.69600</td>\n",
       "    </tr>\n",
       "    <tr>\n",
       "      <th>NZDUSD</th>\n",
       "      <th>Buy</th>\n",
       "      <td>0.36</td>\n",
       "      <td>6.576462</td>\n",
       "      <td>532.00000</td>\n",
       "    </tr>\n",
       "    <tr>\n",
       "      <th>USDCAD</th>\n",
       "      <th>Sell</th>\n",
       "      <td>0.67</td>\n",
       "      <td>6.269123</td>\n",
       "      <td>1121.10000</td>\n",
       "    </tr>\n",
       "    <tr>\n",
       "      <th>ETHUSD</th>\n",
       "      <th>Sell</th>\n",
       "      <td>0.90</td>\n",
       "      <td>5.658045</td>\n",
       "      <td>209.24200</td>\n",
       "    </tr>\n",
       "    <tr>\n",
       "      <th>EURUSD</th>\n",
       "      <th>Buy</th>\n",
       "      <td>0.51</td>\n",
       "      <td>4.396889</td>\n",
       "      <td>580.00000</td>\n",
       "    </tr>\n",
       "    <tr>\n",
       "      <th>GBPUSD</th>\n",
       "      <th>Sell</th>\n",
       "      <td>0.35</td>\n",
       "      <td>4.292188</td>\n",
       "      <td>608.10000</td>\n",
       "    </tr>\n",
       "    <tr>\n",
       "      <th>USDJPY</th>\n",
       "      <th>Buy</th>\n",
       "      <td>0.50</td>\n",
       "      <td>4.129421</td>\n",
       "      <td>14.65700</td>\n",
       "    </tr>\n",
       "    <tr>\n",
       "      <th>XTIUSD</th>\n",
       "      <th>Sell</th>\n",
       "      <td>0.01</td>\n",
       "      <td>3.220365</td>\n",
       "      <td>0.08400</td>\n",
       "    </tr>\n",
       "    <tr>\n",
       "      <th rowspan=\"2\" valign=\"top\">AUDCAD</th>\n",
       "      <th>Sell</th>\n",
       "      <td>0.01</td>\n",
       "      <td>0.000000</td>\n",
       "      <td>2.80000</td>\n",
       "    </tr>\n",
       "    <tr>\n",
       "      <th>Buy</th>\n",
       "      <td>0.01</td>\n",
       "      <td>-0.173942</td>\n",
       "      <td>2.80000</td>\n",
       "    </tr>\n",
       "    <tr>\n",
       "      <th>EURCHF</th>\n",
       "      <th>Sell</th>\n",
       "      <td>0.01</td>\n",
       "      <td>-0.189616</td>\n",
       "      <td>1.80000</td>\n",
       "    </tr>\n",
       "    <tr>\n",
       "      <th>XAUUSD</th>\n",
       "      <th>Sell</th>\n",
       "      <td>0.21</td>\n",
       "      <td>-1.019523</td>\n",
       "      <td>341.00000</td>\n",
       "    </tr>\n",
       "    <tr>\n",
       "      <th>GBPUSD</th>\n",
       "      <th>Buy</th>\n",
       "      <td>0.40</td>\n",
       "      <td>-1.206351</td>\n",
       "      <td>715.30000</td>\n",
       "    </tr>\n",
       "    <tr>\n",
       "      <th>EURCHF</th>\n",
       "      <th>Buy</th>\n",
       "      <td>0.01</td>\n",
       "      <td>-1.353169</td>\n",
       "      <td>14.10000</td>\n",
       "    </tr>\n",
       "    <tr>\n",
       "      <th>USDCHF</th>\n",
       "      <th>Buy</th>\n",
       "      <td>0.38</td>\n",
       "      <td>-1.777872</td>\n",
       "      <td>602.20000</td>\n",
       "    </tr>\n",
       "    <tr>\n",
       "      <th>NZDUSD</th>\n",
       "      <th>Sell</th>\n",
       "      <td>0.79</td>\n",
       "      <td>-1.799276</td>\n",
       "      <td>914.40000</td>\n",
       "    </tr>\n",
       "    <tr>\n",
       "      <th>AUDUSD</th>\n",
       "      <th>Sell</th>\n",
       "      <td>0.58</td>\n",
       "      <td>-1.808987</td>\n",
       "      <td>784.40000</td>\n",
       "    </tr>\n",
       "    <tr>\n",
       "      <th>USDMXN</th>\n",
       "      <th>Sell</th>\n",
       "      <td>0.20</td>\n",
       "      <td>-1.919725</td>\n",
       "      <td>0.09280</td>\n",
       "    </tr>\n",
       "    <tr>\n",
       "      <th>USDCHF</th>\n",
       "      <th>Sell</th>\n",
       "      <td>0.45</td>\n",
       "      <td>-2.747643</td>\n",
       "      <td>535.90000</td>\n",
       "    </tr>\n",
       "    <tr>\n",
       "      <th>XTIUSD</th>\n",
       "      <th>Buy</th>\n",
       "      <td>0.01</td>\n",
       "      <td>-4.168856</td>\n",
       "      <td>0.11900</td>\n",
       "    </tr>\n",
       "    <tr>\n",
       "      <th>BTCUSD</th>\n",
       "      <th>Sell</th>\n",
       "      <td>0.46</td>\n",
       "      <td>-4.550000</td>\n",
       "      <td>2370.07900</td>\n",
       "    </tr>\n",
       "    <tr>\n",
       "      <th>USDJPY</th>\n",
       "      <th>Sell</th>\n",
       "      <td>0.41</td>\n",
       "      <td>-9.686914</td>\n",
       "      <td>9.47700</td>\n",
       "    </tr>\n",
       "    <tr>\n",
       "      <th>USDMXN</th>\n",
       "      <th>Buy</th>\n",
       "      <td>0.25</td>\n",
       "      <td>-10.635451</td>\n",
       "      <td>0.08676</td>\n",
       "    </tr>\n",
       "    <tr>\n",
       "      <th>XAUUSD</th>\n",
       "      <th>Buy</th>\n",
       "      <td>0.25</td>\n",
       "      <td>-15.180668</td>\n",
       "      <td>1266.20000</td>\n",
       "    </tr>\n",
       "  </tbody>\n",
       "</table>\n",
       "</div>"
      ],
      "text/plain": [
       "               sum                           \n",
       "            Volume percent_profit    pip_diff\n",
       "Symbol Type                                  \n",
       "USDCAD Buy    1.13      25.976554  2077.40000\n",
       "BTCUSD Buy    0.18      11.644823   402.53600\n",
       "AUDUSD Buy    0.28      11.271452   458.10000\n",
       "EURUSD Sell   0.37      10.896299   616.00000\n",
       "ETHUSD Buy    0.39       7.516931    84.69600\n",
       "NZDUSD Buy    0.36       6.576462   532.00000\n",
       "USDCAD Sell   0.67       6.269123  1121.10000\n",
       "ETHUSD Sell   0.90       5.658045   209.24200\n",
       "EURUSD Buy    0.51       4.396889   580.00000\n",
       "GBPUSD Sell   0.35       4.292188   608.10000\n",
       "USDJPY Buy    0.50       4.129421    14.65700\n",
       "XTIUSD Sell   0.01       3.220365     0.08400\n",
       "AUDCAD Sell   0.01       0.000000     2.80000\n",
       "       Buy    0.01      -0.173942     2.80000\n",
       "EURCHF Sell   0.01      -0.189616     1.80000\n",
       "XAUUSD Sell   0.21      -1.019523   341.00000\n",
       "GBPUSD Buy    0.40      -1.206351   715.30000\n",
       "EURCHF Buy    0.01      -1.353169    14.10000\n",
       "USDCHF Buy    0.38      -1.777872   602.20000\n",
       "NZDUSD Sell   0.79      -1.799276   914.40000\n",
       "AUDUSD Sell   0.58      -1.808987   784.40000\n",
       "USDMXN Sell   0.20      -1.919725     0.09280\n",
       "USDCHF Sell   0.45      -2.747643   535.90000\n",
       "XTIUSD Buy    0.01      -4.168856     0.11900\n",
       "BTCUSD Sell   0.46      -4.550000  2370.07900\n",
       "USDJPY Sell   0.41      -9.686914     9.47700\n",
       "USDMXN Buy    0.25     -10.635451     0.08676\n",
       "XAUUSD Buy    0.25     -15.180668  1266.20000"
      ]
     },
     "execution_count": 118,
     "metadata": {},
     "output_type": "execute_result"
    }
   ],
   "source": [
    "dff.pivot_table(index=['Symbol' , 'Type']  ,  values=['Volume' , 'percent_profit' , 'pip_diff' ] , aggfunc=['sum' ]).sort_values(by=('sum', 'percent_profit') , ascending=False)\n",
    "\n"
   ]
  },
  {
   "cell_type": "code",
   "execution_count": 132,
   "metadata": {},
   "outputs": [
    {
     "ename": "ValueError",
     "evalue": "Mime type rendering requires nbformat>=4.2.0 but it is not installed",
     "output_type": "error",
     "traceback": [
      "\u001b[1;31m---------------------------------------------------------------------------\u001b[0m",
      "\u001b[1;31mValueError\u001b[0m                                Traceback (most recent call last)",
      "File \u001b[1;32md:\\env\\analysis\\lib\\site-packages\\IPython\\core\\formatters.py:922\u001b[0m, in \u001b[0;36mIPythonDisplayFormatter.__call__\u001b[1;34m(self, obj)\u001b[0m\n\u001b[0;32m    920\u001b[0m method \u001b[38;5;241m=\u001b[39m get_real_method(obj, \u001b[38;5;28mself\u001b[39m\u001b[38;5;241m.\u001b[39mprint_method)\n\u001b[0;32m    921\u001b[0m \u001b[38;5;28;01mif\u001b[39;00m method \u001b[38;5;129;01mis\u001b[39;00m \u001b[38;5;129;01mnot\u001b[39;00m \u001b[38;5;28;01mNone\u001b[39;00m:\n\u001b[1;32m--> 922\u001b[0m     \u001b[43mmethod\u001b[49m\u001b[43m(\u001b[49m\u001b[43m)\u001b[49m\n\u001b[0;32m    923\u001b[0m     \u001b[38;5;28;01mreturn\u001b[39;00m \u001b[38;5;28;01mTrue\u001b[39;00m\n",
      "File \u001b[1;32md:\\env\\analysis\\lib\\site-packages\\plotly\\basedatatypes.py:832\u001b[0m, in \u001b[0;36mBaseFigure._ipython_display_\u001b[1;34m(self)\u001b[0m\n\u001b[0;32m    829\u001b[0m \u001b[38;5;28;01mimport\u001b[39;00m \u001b[38;5;21;01mplotly\u001b[39;00m\u001b[38;5;21;01m.\u001b[39;00m\u001b[38;5;21;01mio\u001b[39;00m \u001b[38;5;28;01mas\u001b[39;00m \u001b[38;5;21;01mpio\u001b[39;00m\n\u001b[0;32m    831\u001b[0m \u001b[38;5;28;01mif\u001b[39;00m pio\u001b[38;5;241m.\u001b[39mrenderers\u001b[38;5;241m.\u001b[39mrender_on_display \u001b[38;5;129;01mand\u001b[39;00m pio\u001b[38;5;241m.\u001b[39mrenderers\u001b[38;5;241m.\u001b[39mdefault:\n\u001b[1;32m--> 832\u001b[0m     \u001b[43mpio\u001b[49m\u001b[38;5;241;43m.\u001b[39;49m\u001b[43mshow\u001b[49m\u001b[43m(\u001b[49m\u001b[38;5;28;43mself\u001b[39;49m\u001b[43m)\u001b[49m\n\u001b[0;32m    833\u001b[0m \u001b[38;5;28;01melse\u001b[39;00m:\n\u001b[0;32m    834\u001b[0m     \u001b[38;5;28mprint\u001b[39m(\u001b[38;5;28mrepr\u001b[39m(\u001b[38;5;28mself\u001b[39m))\n",
      "File \u001b[1;32md:\\env\\analysis\\lib\\site-packages\\plotly\\io\\_renderers.py:394\u001b[0m, in \u001b[0;36mshow\u001b[1;34m(fig, renderer, validate, **kwargs)\u001b[0m\n\u001b[0;32m    389\u001b[0m         \u001b[38;5;28;01mraise\u001b[39;00m \u001b[38;5;167;01mValueError\u001b[39;00m(\n\u001b[0;32m    390\u001b[0m             \u001b[38;5;124m\"\u001b[39m\u001b[38;5;124mMime type rendering requires ipython but it is not installed\u001b[39m\u001b[38;5;124m\"\u001b[39m\n\u001b[0;32m    391\u001b[0m         )\n\u001b[0;32m    393\u001b[0m     \u001b[38;5;28;01mif\u001b[39;00m \u001b[38;5;129;01mnot\u001b[39;00m nbformat \u001b[38;5;129;01mor\u001b[39;00m Version(nbformat\u001b[38;5;241m.\u001b[39m__version__) \u001b[38;5;241m<\u001b[39m Version(\u001b[38;5;124m\"\u001b[39m\u001b[38;5;124m4.2.0\u001b[39m\u001b[38;5;124m\"\u001b[39m):\n\u001b[1;32m--> 394\u001b[0m         \u001b[38;5;28;01mraise\u001b[39;00m \u001b[38;5;167;01mValueError\u001b[39;00m(\n\u001b[0;32m    395\u001b[0m             \u001b[38;5;124m\"\u001b[39m\u001b[38;5;124mMime type rendering requires nbformat>=4.2.0 but it is not installed\u001b[39m\u001b[38;5;124m\"\u001b[39m\n\u001b[0;32m    396\u001b[0m         )\n\u001b[0;32m    398\u001b[0m     ipython_display\u001b[38;5;241m.\u001b[39mdisplay(bundle, raw\u001b[38;5;241m=\u001b[39m\u001b[38;5;28;01mTrue\u001b[39;00m)\n\u001b[0;32m    400\u001b[0m \u001b[38;5;66;03m# external renderers\u001b[39;00m\n",
      "\u001b[1;31mValueError\u001b[0m: Mime type rendering requires nbformat>=4.2.0 but it is not installed"
     ]
    },
    {
     "data": {
      "application/vnd.plotly.v1+json": {
       "config": {
        "plotlyServerURL": "https://plot.ly"
       },
       "data": [
        {
         "hovertemplate": "Time=%{x}<br>Profit=%{y}<extra></extra>",
         "legendgroup": "",
         "line": {
          "color": "#636efa",
          "dash": "solid"
         },
         "marker": {
          "symbol": "circle"
         },
         "mode": "lines",
         "name": "",
         "orientation": "v",
         "showlegend": false,
         "type": "scatter",
         "x": [
          "2023-07-14T09:25:00",
          "2023-07-14T15:10:57",
          "2023-07-17T08:35:00",
          "2023-07-18T14:26:19",
          "2023-07-18T14:56:15",
          "2023-07-18T15:30:00",
          "2023-07-18T15:31:37",
          "2023-07-18T15:44:22",
          "2023-07-18T15:53:32",
          "2023-07-18T18:01:56",
          "2023-07-18T18:10:30",
          "2023-07-18T21:21:18",
          "2023-07-19T10:15:45",
          "2023-07-19T14:04:13",
          "2023-07-19T14:17:35",
          "2023-07-19T17:00:21",
          "2023-07-20T11:28:55",
          "2023-07-20T14:23:23",
          "2023-07-20T15:15:20",
          "2023-07-20T16:01:39",
          "2023-07-21T11:24:42",
          "2023-08-02T13:43:05",
          "2023-08-03T10:28:09",
          "2023-08-03T15:12:48",
          "2023-08-04T09:14:12",
          "2023-08-04T13:41:20",
          "2023-08-04T16:17:31",
          "2023-09-04T11:09:02",
          "2023-09-04T11:09:02",
          "2023-11-13T18:04:23",
          "2023-12-12T12:52:40",
          "2023-12-13T19:51:21",
          "2023-12-05T02:24:43",
          "2024-01-04T15:28:15",
          "2024-01-04T16:18:50",
          "2024-01-05T06:59:00",
          "2024-01-08T09:48:42",
          "2024-01-12T17:32:42",
          "2024-01-17T09:37:17",
          "2024-01-17T16:49:47",
          "2024-01-29T19:50:07",
          "2024-02-01T11:25:29",
          "2024-02-13T22:50:21",
          "2024-02-13T02:58:07",
          "2024-02-23T09:32:10",
          "2024-02-28T12:44:13"
         ],
         "xaxis": "x",
         "y": [
          2,
          2.36,
          3.01,
          0.62,
          -2.05,
          -1.88,
          4,
          -8.34,
          -1.65,
          0.12,
          0.47,
          -0.51,
          -0.81,
          -2.99,
          -0.08,
          1.79,
          0.47,
          -4.69,
          -4.45,
          -3.77,
          1.2,
          1.13,
          1.7,
          -3.81,
          0.44,
          0.07,
          0.27,
          -0.3,
          -0.16,
          18.54,
          0.05,
          14.56,
          -22.35,
          -3.19,
          0.87,
          0.84,
          0.17,
          1.29,
          -2.25,
          -6.01,
          3.44,
          -3.04,
          12.15,
          -14.22,
          -0.58,
          2.03
         ],
         "yaxis": "y"
        }
       ],
       "layout": {
        "legend": {
         "tracegroupgap": 0
        },
        "margin": {
         "t": 60
        },
        "template": {
         "data": {
          "bar": [
           {
            "error_x": {
             "color": "#2a3f5f"
            },
            "error_y": {
             "color": "#2a3f5f"
            },
            "marker": {
             "line": {
              "color": "#E5ECF6",
              "width": 0.5
             },
             "pattern": {
              "fillmode": "overlay",
              "size": 10,
              "solidity": 0.2
             }
            },
            "type": "bar"
           }
          ],
          "barpolar": [
           {
            "marker": {
             "line": {
              "color": "#E5ECF6",
              "width": 0.5
             },
             "pattern": {
              "fillmode": "overlay",
              "size": 10,
              "solidity": 0.2
             }
            },
            "type": "barpolar"
           }
          ],
          "carpet": [
           {
            "aaxis": {
             "endlinecolor": "#2a3f5f",
             "gridcolor": "white",
             "linecolor": "white",
             "minorgridcolor": "white",
             "startlinecolor": "#2a3f5f"
            },
            "baxis": {
             "endlinecolor": "#2a3f5f",
             "gridcolor": "white",
             "linecolor": "white",
             "minorgridcolor": "white",
             "startlinecolor": "#2a3f5f"
            },
            "type": "carpet"
           }
          ],
          "choropleth": [
           {
            "colorbar": {
             "outlinewidth": 0,
             "ticks": ""
            },
            "type": "choropleth"
           }
          ],
          "contour": [
           {
            "colorbar": {
             "outlinewidth": 0,
             "ticks": ""
            },
            "colorscale": [
             [
              0,
              "#0d0887"
             ],
             [
              0.1111111111111111,
              "#46039f"
             ],
             [
              0.2222222222222222,
              "#7201a8"
             ],
             [
              0.3333333333333333,
              "#9c179e"
             ],
             [
              0.4444444444444444,
              "#bd3786"
             ],
             [
              0.5555555555555556,
              "#d8576b"
             ],
             [
              0.6666666666666666,
              "#ed7953"
             ],
             [
              0.7777777777777778,
              "#fb9f3a"
             ],
             [
              0.8888888888888888,
              "#fdca26"
             ],
             [
              1,
              "#f0f921"
             ]
            ],
            "type": "contour"
           }
          ],
          "contourcarpet": [
           {
            "colorbar": {
             "outlinewidth": 0,
             "ticks": ""
            },
            "type": "contourcarpet"
           }
          ],
          "heatmap": [
           {
            "colorbar": {
             "outlinewidth": 0,
             "ticks": ""
            },
            "colorscale": [
             [
              0,
              "#0d0887"
             ],
             [
              0.1111111111111111,
              "#46039f"
             ],
             [
              0.2222222222222222,
              "#7201a8"
             ],
             [
              0.3333333333333333,
              "#9c179e"
             ],
             [
              0.4444444444444444,
              "#bd3786"
             ],
             [
              0.5555555555555556,
              "#d8576b"
             ],
             [
              0.6666666666666666,
              "#ed7953"
             ],
             [
              0.7777777777777778,
              "#fb9f3a"
             ],
             [
              0.8888888888888888,
              "#fdca26"
             ],
             [
              1,
              "#f0f921"
             ]
            ],
            "type": "heatmap"
           }
          ],
          "heatmapgl": [
           {
            "colorbar": {
             "outlinewidth": 0,
             "ticks": ""
            },
            "colorscale": [
             [
              0,
              "#0d0887"
             ],
             [
              0.1111111111111111,
              "#46039f"
             ],
             [
              0.2222222222222222,
              "#7201a8"
             ],
             [
              0.3333333333333333,
              "#9c179e"
             ],
             [
              0.4444444444444444,
              "#bd3786"
             ],
             [
              0.5555555555555556,
              "#d8576b"
             ],
             [
              0.6666666666666666,
              "#ed7953"
             ],
             [
              0.7777777777777778,
              "#fb9f3a"
             ],
             [
              0.8888888888888888,
              "#fdca26"
             ],
             [
              1,
              "#f0f921"
             ]
            ],
            "type": "heatmapgl"
           }
          ],
          "histogram": [
           {
            "marker": {
             "pattern": {
              "fillmode": "overlay",
              "size": 10,
              "solidity": 0.2
             }
            },
            "type": "histogram"
           }
          ],
          "histogram2d": [
           {
            "colorbar": {
             "outlinewidth": 0,
             "ticks": ""
            },
            "colorscale": [
             [
              0,
              "#0d0887"
             ],
             [
              0.1111111111111111,
              "#46039f"
             ],
             [
              0.2222222222222222,
              "#7201a8"
             ],
             [
              0.3333333333333333,
              "#9c179e"
             ],
             [
              0.4444444444444444,
              "#bd3786"
             ],
             [
              0.5555555555555556,
              "#d8576b"
             ],
             [
              0.6666666666666666,
              "#ed7953"
             ],
             [
              0.7777777777777778,
              "#fb9f3a"
             ],
             [
              0.8888888888888888,
              "#fdca26"
             ],
             [
              1,
              "#f0f921"
             ]
            ],
            "type": "histogram2d"
           }
          ],
          "histogram2dcontour": [
           {
            "colorbar": {
             "outlinewidth": 0,
             "ticks": ""
            },
            "colorscale": [
             [
              0,
              "#0d0887"
             ],
             [
              0.1111111111111111,
              "#46039f"
             ],
             [
              0.2222222222222222,
              "#7201a8"
             ],
             [
              0.3333333333333333,
              "#9c179e"
             ],
             [
              0.4444444444444444,
              "#bd3786"
             ],
             [
              0.5555555555555556,
              "#d8576b"
             ],
             [
              0.6666666666666666,
              "#ed7953"
             ],
             [
              0.7777777777777778,
              "#fb9f3a"
             ],
             [
              0.8888888888888888,
              "#fdca26"
             ],
             [
              1,
              "#f0f921"
             ]
            ],
            "type": "histogram2dcontour"
           }
          ],
          "mesh3d": [
           {
            "colorbar": {
             "outlinewidth": 0,
             "ticks": ""
            },
            "type": "mesh3d"
           }
          ],
          "parcoords": [
           {
            "line": {
             "colorbar": {
              "outlinewidth": 0,
              "ticks": ""
             }
            },
            "type": "parcoords"
           }
          ],
          "pie": [
           {
            "automargin": true,
            "type": "pie"
           }
          ],
          "scatter": [
           {
            "fillpattern": {
             "fillmode": "overlay",
             "size": 10,
             "solidity": 0.2
            },
            "type": "scatter"
           }
          ],
          "scatter3d": [
           {
            "line": {
             "colorbar": {
              "outlinewidth": 0,
              "ticks": ""
             }
            },
            "marker": {
             "colorbar": {
              "outlinewidth": 0,
              "ticks": ""
             }
            },
            "type": "scatter3d"
           }
          ],
          "scattercarpet": [
           {
            "marker": {
             "colorbar": {
              "outlinewidth": 0,
              "ticks": ""
             }
            },
            "type": "scattercarpet"
           }
          ],
          "scattergeo": [
           {
            "marker": {
             "colorbar": {
              "outlinewidth": 0,
              "ticks": ""
             }
            },
            "type": "scattergeo"
           }
          ],
          "scattergl": [
           {
            "marker": {
             "colorbar": {
              "outlinewidth": 0,
              "ticks": ""
             }
            },
            "type": "scattergl"
           }
          ],
          "scattermapbox": [
           {
            "marker": {
             "colorbar": {
              "outlinewidth": 0,
              "ticks": ""
             }
            },
            "type": "scattermapbox"
           }
          ],
          "scatterpolar": [
           {
            "marker": {
             "colorbar": {
              "outlinewidth": 0,
              "ticks": ""
             }
            },
            "type": "scatterpolar"
           }
          ],
          "scatterpolargl": [
           {
            "marker": {
             "colorbar": {
              "outlinewidth": 0,
              "ticks": ""
             }
            },
            "type": "scatterpolargl"
           }
          ],
          "scatterternary": [
           {
            "marker": {
             "colorbar": {
              "outlinewidth": 0,
              "ticks": ""
             }
            },
            "type": "scatterternary"
           }
          ],
          "surface": [
           {
            "colorbar": {
             "outlinewidth": 0,
             "ticks": ""
            },
            "colorscale": [
             [
              0,
              "#0d0887"
             ],
             [
              0.1111111111111111,
              "#46039f"
             ],
             [
              0.2222222222222222,
              "#7201a8"
             ],
             [
              0.3333333333333333,
              "#9c179e"
             ],
             [
              0.4444444444444444,
              "#bd3786"
             ],
             [
              0.5555555555555556,
              "#d8576b"
             ],
             [
              0.6666666666666666,
              "#ed7953"
             ],
             [
              0.7777777777777778,
              "#fb9f3a"
             ],
             [
              0.8888888888888888,
              "#fdca26"
             ],
             [
              1,
              "#f0f921"
             ]
            ],
            "type": "surface"
           }
          ],
          "table": [
           {
            "cells": {
             "fill": {
              "color": "#EBF0F8"
             },
             "line": {
              "color": "white"
             }
            },
            "header": {
             "fill": {
              "color": "#C8D4E3"
             },
             "line": {
              "color": "white"
             }
            },
            "type": "table"
           }
          ]
         },
         "layout": {
          "annotationdefaults": {
           "arrowcolor": "#2a3f5f",
           "arrowhead": 0,
           "arrowwidth": 1
          },
          "autotypenumbers": "strict",
          "coloraxis": {
           "colorbar": {
            "outlinewidth": 0,
            "ticks": ""
           }
          },
          "colorscale": {
           "diverging": [
            [
             0,
             "#8e0152"
            ],
            [
             0.1,
             "#c51b7d"
            ],
            [
             0.2,
             "#de77ae"
            ],
            [
             0.3,
             "#f1b6da"
            ],
            [
             0.4,
             "#fde0ef"
            ],
            [
             0.5,
             "#f7f7f7"
            ],
            [
             0.6,
             "#e6f5d0"
            ],
            [
             0.7,
             "#b8e186"
            ],
            [
             0.8,
             "#7fbc41"
            ],
            [
             0.9,
             "#4d9221"
            ],
            [
             1,
             "#276419"
            ]
           ],
           "sequential": [
            [
             0,
             "#0d0887"
            ],
            [
             0.1111111111111111,
             "#46039f"
            ],
            [
             0.2222222222222222,
             "#7201a8"
            ],
            [
             0.3333333333333333,
             "#9c179e"
            ],
            [
             0.4444444444444444,
             "#bd3786"
            ],
            [
             0.5555555555555556,
             "#d8576b"
            ],
            [
             0.6666666666666666,
             "#ed7953"
            ],
            [
             0.7777777777777778,
             "#fb9f3a"
            ],
            [
             0.8888888888888888,
             "#fdca26"
            ],
            [
             1,
             "#f0f921"
            ]
           ],
           "sequentialminus": [
            [
             0,
             "#0d0887"
            ],
            [
             0.1111111111111111,
             "#46039f"
            ],
            [
             0.2222222222222222,
             "#7201a8"
            ],
            [
             0.3333333333333333,
             "#9c179e"
            ],
            [
             0.4444444444444444,
             "#bd3786"
            ],
            [
             0.5555555555555556,
             "#d8576b"
            ],
            [
             0.6666666666666666,
             "#ed7953"
            ],
            [
             0.7777777777777778,
             "#fb9f3a"
            ],
            [
             0.8888888888888888,
             "#fdca26"
            ],
            [
             1,
             "#f0f921"
            ]
           ]
          },
          "colorway": [
           "#636efa",
           "#EF553B",
           "#00cc96",
           "#ab63fa",
           "#FFA15A",
           "#19d3f3",
           "#FF6692",
           "#B6E880",
           "#FF97FF",
           "#FECB52"
          ],
          "font": {
           "color": "#2a3f5f"
          },
          "geo": {
           "bgcolor": "white",
           "lakecolor": "white",
           "landcolor": "#E5ECF6",
           "showlakes": true,
           "showland": true,
           "subunitcolor": "white"
          },
          "hoverlabel": {
           "align": "left"
          },
          "hovermode": "closest",
          "mapbox": {
           "style": "light"
          },
          "paper_bgcolor": "white",
          "plot_bgcolor": "#E5ECF6",
          "polar": {
           "angularaxis": {
            "gridcolor": "white",
            "linecolor": "white",
            "ticks": ""
           },
           "bgcolor": "#E5ECF6",
           "radialaxis": {
            "gridcolor": "white",
            "linecolor": "white",
            "ticks": ""
           }
          },
          "scene": {
           "xaxis": {
            "backgroundcolor": "#E5ECF6",
            "gridcolor": "white",
            "gridwidth": 2,
            "linecolor": "white",
            "showbackground": true,
            "ticks": "",
            "zerolinecolor": "white"
           },
           "yaxis": {
            "backgroundcolor": "#E5ECF6",
            "gridcolor": "white",
            "gridwidth": 2,
            "linecolor": "white",
            "showbackground": true,
            "ticks": "",
            "zerolinecolor": "white"
           },
           "zaxis": {
            "backgroundcolor": "#E5ECF6",
            "gridcolor": "white",
            "gridwidth": 2,
            "linecolor": "white",
            "showbackground": true,
            "ticks": "",
            "zerolinecolor": "white"
           }
          },
          "shapedefaults": {
           "line": {
            "color": "#2a3f5f"
           }
          },
          "ternary": {
           "aaxis": {
            "gridcolor": "white",
            "linecolor": "white",
            "ticks": ""
           },
           "baxis": {
            "gridcolor": "white",
            "linecolor": "white",
            "ticks": ""
           },
           "bgcolor": "#E5ECF6",
           "caxis": {
            "gridcolor": "white",
            "linecolor": "white",
            "ticks": ""
           }
          },
          "title": {
           "x": 0.05
          },
          "xaxis": {
           "automargin": true,
           "gridcolor": "white",
           "linecolor": "white",
           "ticks": "",
           "title": {
            "standoff": 15
           },
           "zerolinecolor": "white",
           "zerolinewidth": 2
          },
          "yaxis": {
           "automargin": true,
           "gridcolor": "white",
           "linecolor": "white",
           "ticks": "",
           "title": {
            "standoff": 15
           },
           "zerolinecolor": "white",
           "zerolinewidth": 2
          }
         }
        },
        "xaxis": {
         "anchor": "y",
         "domain": [
          0,
          1
         ],
         "title": {
          "text": "Time"
         }
        },
        "yaxis": {
         "anchor": "x",
         "domain": [
          0,
          1
         ],
         "title": {
          "text": "Profit"
         }
        }
       }
      },
      "text/html": [
       "<div>                        <script type=\"text/javascript\">window.PlotlyConfig = {MathJaxConfig: 'local'};</script>\n",
       "        <script charset=\"utf-8\" src=\"https://cdn.plot.ly/plotly-2.35.2.min.js\"></script>                <div id=\"4eea5b49-a13f-4489-84aa-d08523d5fde2\" class=\"plotly-graph-div\" style=\"height:100%; width:100%;\"></div>            <script type=\"text/javascript\">                                    window.PLOTLYENV=window.PLOTLYENV || {};                                    if (document.getElementById(\"4eea5b49-a13f-4489-84aa-d08523d5fde2\")) {                    Plotly.newPlot(                        \"4eea5b49-a13f-4489-84aa-d08523d5fde2\",                        [{\"hovertemplate\":\"Time=%{x}\\u003cbr\\u003eProfit=%{y}\\u003cextra\\u003e\\u003c\\u002fextra\\u003e\",\"legendgroup\":\"\",\"line\":{\"color\":\"#636efa\",\"dash\":\"solid\"},\"marker\":{\"symbol\":\"circle\"},\"mode\":\"lines\",\"name\":\"\",\"orientation\":\"v\",\"showlegend\":false,\"x\":[\"2023-07-14T09:25:00\",\"2023-07-14T15:10:57\",\"2023-07-17T08:35:00\",\"2023-07-18T14:26:19\",\"2023-07-18T14:56:15\",\"2023-07-18T15:30:00\",\"2023-07-18T15:31:37\",\"2023-07-18T15:44:22\",\"2023-07-18T15:53:32\",\"2023-07-18T18:01:56\",\"2023-07-18T18:10:30\",\"2023-07-18T21:21:18\",\"2023-07-19T10:15:45\",\"2023-07-19T14:04:13\",\"2023-07-19T14:17:35\",\"2023-07-19T17:00:21\",\"2023-07-20T11:28:55\",\"2023-07-20T14:23:23\",\"2023-07-20T15:15:20\",\"2023-07-20T16:01:39\",\"2023-07-21T11:24:42\",\"2023-08-02T13:43:05\",\"2023-08-03T10:28:09\",\"2023-08-03T15:12:48\",\"2023-08-04T09:14:12\",\"2023-08-04T13:41:20\",\"2023-08-04T16:17:31\",\"2023-09-04T11:09:02\",\"2023-09-04T11:09:02\",\"2023-11-13T18:04:23\",\"2023-12-12T12:52:40\",\"2023-12-13T19:51:21\",\"2023-12-05T02:24:43\",\"2024-01-04T15:28:15\",\"2024-01-04T16:18:50\",\"2024-01-05T06:59:00\",\"2024-01-08T09:48:42\",\"2024-01-12T17:32:42\",\"2024-01-17T09:37:17\",\"2024-01-17T16:49:47\",\"2024-01-29T19:50:07\",\"2024-02-01T11:25:29\",\"2024-02-13T22:50:21\",\"2024-02-13T02:58:07\",\"2024-02-23T09:32:10\",\"2024-02-28T12:44:13\"],\"xaxis\":\"x\",\"y\":[2.0,2.36,3.01,0.62,-2.05,-1.88,4.0,-8.34,-1.65,0.12,0.47,-0.51,-0.81,-2.99,-0.08,1.79,0.47,-4.69,-4.45,-3.77,1.2,1.13,1.7,-3.81,0.44,0.07,0.27,-0.3,-0.16,18.54,0.05,14.56,-22.35,-3.19,0.87,0.84,0.17,1.29,-2.25,-6.01,3.44,-3.04,12.15,-14.22,-0.58,2.03],\"yaxis\":\"y\",\"type\":\"scatter\"}],                        {\"template\":{\"data\":{\"histogram2dcontour\":[{\"type\":\"histogram2dcontour\",\"colorbar\":{\"outlinewidth\":0,\"ticks\":\"\"},\"colorscale\":[[0.0,\"#0d0887\"],[0.1111111111111111,\"#46039f\"],[0.2222222222222222,\"#7201a8\"],[0.3333333333333333,\"#9c179e\"],[0.4444444444444444,\"#bd3786\"],[0.5555555555555556,\"#d8576b\"],[0.6666666666666666,\"#ed7953\"],[0.7777777777777778,\"#fb9f3a\"],[0.8888888888888888,\"#fdca26\"],[1.0,\"#f0f921\"]]}],\"choropleth\":[{\"type\":\"choropleth\",\"colorbar\":{\"outlinewidth\":0,\"ticks\":\"\"}}],\"histogram2d\":[{\"type\":\"histogram2d\",\"colorbar\":{\"outlinewidth\":0,\"ticks\":\"\"},\"colorscale\":[[0.0,\"#0d0887\"],[0.1111111111111111,\"#46039f\"],[0.2222222222222222,\"#7201a8\"],[0.3333333333333333,\"#9c179e\"],[0.4444444444444444,\"#bd3786\"],[0.5555555555555556,\"#d8576b\"],[0.6666666666666666,\"#ed7953\"],[0.7777777777777778,\"#fb9f3a\"],[0.8888888888888888,\"#fdca26\"],[1.0,\"#f0f921\"]]}],\"heatmap\":[{\"type\":\"heatmap\",\"colorbar\":{\"outlinewidth\":0,\"ticks\":\"\"},\"colorscale\":[[0.0,\"#0d0887\"],[0.1111111111111111,\"#46039f\"],[0.2222222222222222,\"#7201a8\"],[0.3333333333333333,\"#9c179e\"],[0.4444444444444444,\"#bd3786\"],[0.5555555555555556,\"#d8576b\"],[0.6666666666666666,\"#ed7953\"],[0.7777777777777778,\"#fb9f3a\"],[0.8888888888888888,\"#fdca26\"],[1.0,\"#f0f921\"]]}],\"heatmapgl\":[{\"type\":\"heatmapgl\",\"colorbar\":{\"outlinewidth\":0,\"ticks\":\"\"},\"colorscale\":[[0.0,\"#0d0887\"],[0.1111111111111111,\"#46039f\"],[0.2222222222222222,\"#7201a8\"],[0.3333333333333333,\"#9c179e\"],[0.4444444444444444,\"#bd3786\"],[0.5555555555555556,\"#d8576b\"],[0.6666666666666666,\"#ed7953\"],[0.7777777777777778,\"#fb9f3a\"],[0.8888888888888888,\"#fdca26\"],[1.0,\"#f0f921\"]]}],\"contourcarpet\":[{\"type\":\"contourcarpet\",\"colorbar\":{\"outlinewidth\":0,\"ticks\":\"\"}}],\"contour\":[{\"type\":\"contour\",\"colorbar\":{\"outlinewidth\":0,\"ticks\":\"\"},\"colorscale\":[[0.0,\"#0d0887\"],[0.1111111111111111,\"#46039f\"],[0.2222222222222222,\"#7201a8\"],[0.3333333333333333,\"#9c179e\"],[0.4444444444444444,\"#bd3786\"],[0.5555555555555556,\"#d8576b\"],[0.6666666666666666,\"#ed7953\"],[0.7777777777777778,\"#fb9f3a\"],[0.8888888888888888,\"#fdca26\"],[1.0,\"#f0f921\"]]}],\"surface\":[{\"type\":\"surface\",\"colorbar\":{\"outlinewidth\":0,\"ticks\":\"\"},\"colorscale\":[[0.0,\"#0d0887\"],[0.1111111111111111,\"#46039f\"],[0.2222222222222222,\"#7201a8\"],[0.3333333333333333,\"#9c179e\"],[0.4444444444444444,\"#bd3786\"],[0.5555555555555556,\"#d8576b\"],[0.6666666666666666,\"#ed7953\"],[0.7777777777777778,\"#fb9f3a\"],[0.8888888888888888,\"#fdca26\"],[1.0,\"#f0f921\"]]}],\"mesh3d\":[{\"type\":\"mesh3d\",\"colorbar\":{\"outlinewidth\":0,\"ticks\":\"\"}}],\"scatter\":[{\"fillpattern\":{\"fillmode\":\"overlay\",\"size\":10,\"solidity\":0.2},\"type\":\"scatter\"}],\"parcoords\":[{\"type\":\"parcoords\",\"line\":{\"colorbar\":{\"outlinewidth\":0,\"ticks\":\"\"}}}],\"scatterpolargl\":[{\"type\":\"scatterpolargl\",\"marker\":{\"colorbar\":{\"outlinewidth\":0,\"ticks\":\"\"}}}],\"bar\":[{\"error_x\":{\"color\":\"#2a3f5f\"},\"error_y\":{\"color\":\"#2a3f5f\"},\"marker\":{\"line\":{\"color\":\"#E5ECF6\",\"width\":0.5},\"pattern\":{\"fillmode\":\"overlay\",\"size\":10,\"solidity\":0.2}},\"type\":\"bar\"}],\"scattergeo\":[{\"type\":\"scattergeo\",\"marker\":{\"colorbar\":{\"outlinewidth\":0,\"ticks\":\"\"}}}],\"scatterpolar\":[{\"type\":\"scatterpolar\",\"marker\":{\"colorbar\":{\"outlinewidth\":0,\"ticks\":\"\"}}}],\"histogram\":[{\"marker\":{\"pattern\":{\"fillmode\":\"overlay\",\"size\":10,\"solidity\":0.2}},\"type\":\"histogram\"}],\"scattergl\":[{\"type\":\"scattergl\",\"marker\":{\"colorbar\":{\"outlinewidth\":0,\"ticks\":\"\"}}}],\"scatter3d\":[{\"type\":\"scatter3d\",\"line\":{\"colorbar\":{\"outlinewidth\":0,\"ticks\":\"\"}},\"marker\":{\"colorbar\":{\"outlinewidth\":0,\"ticks\":\"\"}}}],\"scattermapbox\":[{\"type\":\"scattermapbox\",\"marker\":{\"colorbar\":{\"outlinewidth\":0,\"ticks\":\"\"}}}],\"scatterternary\":[{\"type\":\"scatterternary\",\"marker\":{\"colorbar\":{\"outlinewidth\":0,\"ticks\":\"\"}}}],\"scattercarpet\":[{\"type\":\"scattercarpet\",\"marker\":{\"colorbar\":{\"outlinewidth\":0,\"ticks\":\"\"}}}],\"carpet\":[{\"aaxis\":{\"endlinecolor\":\"#2a3f5f\",\"gridcolor\":\"white\",\"linecolor\":\"white\",\"minorgridcolor\":\"white\",\"startlinecolor\":\"#2a3f5f\"},\"baxis\":{\"endlinecolor\":\"#2a3f5f\",\"gridcolor\":\"white\",\"linecolor\":\"white\",\"minorgridcolor\":\"white\",\"startlinecolor\":\"#2a3f5f\"},\"type\":\"carpet\"}],\"table\":[{\"cells\":{\"fill\":{\"color\":\"#EBF0F8\"},\"line\":{\"color\":\"white\"}},\"header\":{\"fill\":{\"color\":\"#C8D4E3\"},\"line\":{\"color\":\"white\"}},\"type\":\"table\"}],\"barpolar\":[{\"marker\":{\"line\":{\"color\":\"#E5ECF6\",\"width\":0.5},\"pattern\":{\"fillmode\":\"overlay\",\"size\":10,\"solidity\":0.2}},\"type\":\"barpolar\"}],\"pie\":[{\"automargin\":true,\"type\":\"pie\"}]},\"layout\":{\"autotypenumbers\":\"strict\",\"colorway\":[\"#636efa\",\"#EF553B\",\"#00cc96\",\"#ab63fa\",\"#FFA15A\",\"#19d3f3\",\"#FF6692\",\"#B6E880\",\"#FF97FF\",\"#FECB52\"],\"font\":{\"color\":\"#2a3f5f\"},\"hovermode\":\"closest\",\"hoverlabel\":{\"align\":\"left\"},\"paper_bgcolor\":\"white\",\"plot_bgcolor\":\"#E5ECF6\",\"polar\":{\"bgcolor\":\"#E5ECF6\",\"angularaxis\":{\"gridcolor\":\"white\",\"linecolor\":\"white\",\"ticks\":\"\"},\"radialaxis\":{\"gridcolor\":\"white\",\"linecolor\":\"white\",\"ticks\":\"\"}},\"ternary\":{\"bgcolor\":\"#E5ECF6\",\"aaxis\":{\"gridcolor\":\"white\",\"linecolor\":\"white\",\"ticks\":\"\"},\"baxis\":{\"gridcolor\":\"white\",\"linecolor\":\"white\",\"ticks\":\"\"},\"caxis\":{\"gridcolor\":\"white\",\"linecolor\":\"white\",\"ticks\":\"\"}},\"coloraxis\":{\"colorbar\":{\"outlinewidth\":0,\"ticks\":\"\"}},\"colorscale\":{\"sequential\":[[0.0,\"#0d0887\"],[0.1111111111111111,\"#46039f\"],[0.2222222222222222,\"#7201a8\"],[0.3333333333333333,\"#9c179e\"],[0.4444444444444444,\"#bd3786\"],[0.5555555555555556,\"#d8576b\"],[0.6666666666666666,\"#ed7953\"],[0.7777777777777778,\"#fb9f3a\"],[0.8888888888888888,\"#fdca26\"],[1.0,\"#f0f921\"]],\"sequentialminus\":[[0.0,\"#0d0887\"],[0.1111111111111111,\"#46039f\"],[0.2222222222222222,\"#7201a8\"],[0.3333333333333333,\"#9c179e\"],[0.4444444444444444,\"#bd3786\"],[0.5555555555555556,\"#d8576b\"],[0.6666666666666666,\"#ed7953\"],[0.7777777777777778,\"#fb9f3a\"],[0.8888888888888888,\"#fdca26\"],[1.0,\"#f0f921\"]],\"diverging\":[[0,\"#8e0152\"],[0.1,\"#c51b7d\"],[0.2,\"#de77ae\"],[0.3,\"#f1b6da\"],[0.4,\"#fde0ef\"],[0.5,\"#f7f7f7\"],[0.6,\"#e6f5d0\"],[0.7,\"#b8e186\"],[0.8,\"#7fbc41\"],[0.9,\"#4d9221\"],[1,\"#276419\"]]},\"xaxis\":{\"gridcolor\":\"white\",\"linecolor\":\"white\",\"ticks\":\"\",\"title\":{\"standoff\":15},\"zerolinecolor\":\"white\",\"automargin\":true,\"zerolinewidth\":2},\"yaxis\":{\"gridcolor\":\"white\",\"linecolor\":\"white\",\"ticks\":\"\",\"title\":{\"standoff\":15},\"zerolinecolor\":\"white\",\"automargin\":true,\"zerolinewidth\":2},\"scene\":{\"xaxis\":{\"backgroundcolor\":\"#E5ECF6\",\"gridcolor\":\"white\",\"linecolor\":\"white\",\"showbackground\":true,\"ticks\":\"\",\"zerolinecolor\":\"white\",\"gridwidth\":2},\"yaxis\":{\"backgroundcolor\":\"#E5ECF6\",\"gridcolor\":\"white\",\"linecolor\":\"white\",\"showbackground\":true,\"ticks\":\"\",\"zerolinecolor\":\"white\",\"gridwidth\":2},\"zaxis\":{\"backgroundcolor\":\"#E5ECF6\",\"gridcolor\":\"white\",\"linecolor\":\"white\",\"showbackground\":true,\"ticks\":\"\",\"zerolinecolor\":\"white\",\"gridwidth\":2}},\"shapedefaults\":{\"line\":{\"color\":\"#2a3f5f\"}},\"annotationdefaults\":{\"arrowcolor\":\"#2a3f5f\",\"arrowhead\":0,\"arrowwidth\":1},\"geo\":{\"bgcolor\":\"white\",\"landcolor\":\"#E5ECF6\",\"subunitcolor\":\"white\",\"showland\":true,\"showlakes\":true,\"lakecolor\":\"white\"},\"title\":{\"x\":0.05},\"mapbox\":{\"style\":\"light\"}}},\"xaxis\":{\"anchor\":\"y\",\"domain\":[0.0,1.0],\"title\":{\"text\":\"Time\"}},\"yaxis\":{\"anchor\":\"x\",\"domain\":[0.0,1.0],\"title\":{\"text\":\"Profit\"}},\"legend\":{\"tracegroupgap\":0},\"margin\":{\"t\":60}},                        {\"responsive\": true}                    )                };                            </script>        </div>"
      ],
      "text/plain": [
       "Figure({\n",
       "    'data': [{'hovertemplate': 'Time=%{x}<br>Profit=%{y}<extra></extra>',\n",
       "              'legendgroup': '',\n",
       "              'line': {'color': '#636efa', 'dash': 'solid'},\n",
       "              'marker': {'symbol': 'circle'},\n",
       "              'mode': 'lines',\n",
       "              'name': '',\n",
       "              'orientation': 'v',\n",
       "              'showlegend': False,\n",
       "              'type': 'scatter',\n",
       "              'x': array([datetime.datetime(2023, 7, 14, 9, 25),\n",
       "                          datetime.datetime(2023, 7, 14, 15, 10, 57),\n",
       "                          datetime.datetime(2023, 7, 17, 8, 35),\n",
       "                          datetime.datetime(2023, 7, 18, 14, 26, 19),\n",
       "                          datetime.datetime(2023, 7, 18, 14, 56, 15),\n",
       "                          datetime.datetime(2023, 7, 18, 15, 30),\n",
       "                          datetime.datetime(2023, 7, 18, 15, 31, 37),\n",
       "                          datetime.datetime(2023, 7, 18, 15, 44, 22),\n",
       "                          datetime.datetime(2023, 7, 18, 15, 53, 32),\n",
       "                          datetime.datetime(2023, 7, 18, 18, 1, 56),\n",
       "                          datetime.datetime(2023, 7, 18, 18, 10, 30),\n",
       "                          datetime.datetime(2023, 7, 18, 21, 21, 18),\n",
       "                          datetime.datetime(2023, 7, 19, 10, 15, 45),\n",
       "                          datetime.datetime(2023, 7, 19, 14, 4, 13),\n",
       "                          datetime.datetime(2023, 7, 19, 14, 17, 35),\n",
       "                          datetime.datetime(2023, 7, 19, 17, 0, 21),\n",
       "                          datetime.datetime(2023, 7, 20, 11, 28, 55),\n",
       "                          datetime.datetime(2023, 7, 20, 14, 23, 23),\n",
       "                          datetime.datetime(2023, 7, 20, 15, 15, 20),\n",
       "                          datetime.datetime(2023, 7, 20, 16, 1, 39),\n",
       "                          datetime.datetime(2023, 7, 21, 11, 24, 42),\n",
       "                          datetime.datetime(2023, 8, 2, 13, 43, 5),\n",
       "                          datetime.datetime(2023, 8, 3, 10, 28, 9),\n",
       "                          datetime.datetime(2023, 8, 3, 15, 12, 48),\n",
       "                          datetime.datetime(2023, 8, 4, 9, 14, 12),\n",
       "                          datetime.datetime(2023, 8, 4, 13, 41, 20),\n",
       "                          datetime.datetime(2023, 8, 4, 16, 17, 31),\n",
       "                          datetime.datetime(2023, 9, 4, 11, 9, 2),\n",
       "                          datetime.datetime(2023, 9, 4, 11, 9, 2),\n",
       "                          datetime.datetime(2023, 11, 13, 18, 4, 23),\n",
       "                          datetime.datetime(2023, 12, 12, 12, 52, 40),\n",
       "                          datetime.datetime(2023, 12, 13, 19, 51, 21),\n",
       "                          datetime.datetime(2023, 12, 5, 2, 24, 43),\n",
       "                          datetime.datetime(2024, 1, 4, 15, 28, 15),\n",
       "                          datetime.datetime(2024, 1, 4, 16, 18, 50),\n",
       "                          datetime.datetime(2024, 1, 5, 6, 59),\n",
       "                          datetime.datetime(2024, 1, 8, 9, 48, 42),\n",
       "                          datetime.datetime(2024, 1, 12, 17, 32, 42),\n",
       "                          datetime.datetime(2024, 1, 17, 9, 37, 17),\n",
       "                          datetime.datetime(2024, 1, 17, 16, 49, 47),\n",
       "                          datetime.datetime(2024, 1, 29, 19, 50, 7),\n",
       "                          datetime.datetime(2024, 2, 1, 11, 25, 29),\n",
       "                          datetime.datetime(2024, 2, 13, 22, 50, 21),\n",
       "                          datetime.datetime(2024, 2, 13, 2, 58, 7),\n",
       "                          datetime.datetime(2024, 2, 23, 9, 32, 10),\n",
       "                          datetime.datetime(2024, 2, 28, 12, 44, 13)], dtype=object),\n",
       "              'xaxis': 'x',\n",
       "              'y': array([  2.  ,   2.36,   3.01,   0.62,  -2.05,  -1.88,   4.  ,  -8.34,  -1.65,\n",
       "                            0.12,   0.47,  -0.51,  -0.81,  -2.99,  -0.08,   1.79,   0.47,  -4.69,\n",
       "                           -4.45,  -3.77,   1.2 ,   1.13,   1.7 ,  -3.81,   0.44,   0.07,   0.27,\n",
       "                           -0.3 ,  -0.16,  18.54,   0.05,  14.56, -22.35,  -3.19,   0.87,   0.84,\n",
       "                            0.17,   1.29,  -2.25,  -6.01,   3.44,  -3.04,  12.15, -14.22,  -0.58,\n",
       "                            2.03]),\n",
       "              'yaxis': 'y'}],\n",
       "    'layout': {'legend': {'tracegroupgap': 0},\n",
       "               'margin': {'t': 60},\n",
       "               'template': '...',\n",
       "               'xaxis': {'anchor': 'y', 'domain': [0.0, 1.0], 'title': {'text': 'Time'}},\n",
       "               'yaxis': {'anchor': 'x', 'domain': [0.0, 1.0], 'title': {'text': 'Profit'}}}\n",
       "})"
      ]
     },
     "execution_count": 132,
     "metadata": {},
     "output_type": "execute_result"
    }
   ],
   "source": [
    "df_test = dff[dff['Symbol'] == 'XAUUSD'].reset_index(drop=True)\n",
    "px.line(df_test , x='Time' , y='Profit' )\n"
   ]
  }
 ],
 "metadata": {
  "kernelspec": {
   "display_name": "analysis",
   "language": "python",
   "name": "python3"
  },
  "language_info": {
   "codemirror_mode": {
    "name": "ipython",
    "version": 3
   },
   "file_extension": ".py",
   "mimetype": "text/x-python",
   "name": "python",
   "nbconvert_exporter": "python",
   "pygments_lexer": "ipython3",
   "version": "3.8.10"
  }
 },
 "nbformat": 4,
 "nbformat_minor": 2
}
